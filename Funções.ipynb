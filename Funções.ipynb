{
  "nbformat": 4,
  "nbformat_minor": 0,
  "metadata": {
    "colab": {
      "provenance": [],
      "authorship_tag": "ABX9TyMwYBfxQGSToVkRmeL3qWIs",
      "include_colab_link": true
    },
    "kernelspec": {
      "name": "python3",
      "display_name": "Python 3"
    },
    "language_info": {
      "name": "python"
    }
  },
  "cells": [
    {
      "cell_type": "markdown",
      "metadata": {
        "id": "view-in-github",
        "colab_type": "text"
      },
      "source": [
        "<a href=\"https://colab.research.google.com/github/dienyffer2024/Analise-de-Dados/blob/main/Fun%C3%A7%C3%B5es.ipynb\" target=\"_parent\"><img src=\"https://colab.research.google.com/assets/colab-badge.svg\" alt=\"Open In Colab\"/></a>"
      ]
    },
    {
      "cell_type": "markdown",
      "source": [
        "1. Calculadora Científica\n",
        "   - Escreva uma função que simule uma calculadora científica, capaz de realizar operações básicas como adição, subtração, multiplicação, e divisão, além de funções trigonométricas, exponenciação, e logaritmos."
      ],
      "metadata": {
        "id": "O23VSrGh5xhE"
      }
    },
    {
      "cell_type": "code",
      "source": [
        "import math\n",
        "\n",
        "print(\"1. Calculadora Científica\")\n",
        "\n",
        "list = []\n",
        "\n",
        "def adicao(x, y):\n",
        "    return x+y\n",
        "\n",
        "def subtracao(x, y):\n",
        "    return x-y\n",
        "\n",
        "def multiplicacao(x,y):\n",
        "   return x*y\n",
        "\n",
        "def divisao(x, y):\n",
        "    if y != 0:\n",
        "        return x / y\n",
        "    else:\n",
        "        return \"Erro: Divisão por zero.\"\n",
        "\n",
        "def exponenciacao(x,y):\n",
        "    return x ** y\n",
        "\n",
        "def logaritmos(x, y):\n",
        "    return math.log(x/y)\n",
        "\n",
        "def seno(angulo_graus):\n",
        "    angulo_radianos = math.radians(angulo_graus)\n",
        "    return math.sin(angulo_radianos)\n",
        "def cosseno(angulo_graus):\n",
        "    angulo_radianos = math.radians(angulo_graus)\n",
        "    return math.cos(angulo_radianos)\n",
        "\n",
        "def tangente(angulo_graus):\n",
        "    angulo_radianos = math.radians(angulo_graus)\n",
        "    return math.tan(angulo_radianos)\n",
        "\n",
        "def trigonometricas(numero, opcao):\n",
        "    if opcao == 1:\n",
        "        return f\"O valor no seno é {seno(numero)}\"\n",
        "    elif opcao == 2:\n",
        "        return f\"O valor do cosseno é {cosseno(numero)}\"\n",
        "    else:\n",
        "        return f\"O valor da tangente é {tangente(numero)}\"\n",
        "\n",
        "\n",
        "def menu():\n",
        "    numero1 = 0\n",
        "    numero2 = 0\n",
        "    print(\"Escolha um número para realizar a operação\",\"01-adição\" , \"02-subtração\", \"03-multiplicação\", \"04-divisão\" , \"05-trigonométricas\", \"06-exponenciação\", \"07-logaritmos\", sep=\" \\n\")\n",
        "    opcao = int(input(\"Digite sua escolha: \"))\n",
        "\n",
        "    if opcao == 1:\n",
        "        numero1 = float(input(\"Digite o primeiro numero: \"))\n",
        "        numero2 = float(input(\"Digite o segundo numero: \"))\n",
        "        print(f\"O resultado é {adicao(numero1, numero2)}\")\n",
        "    elif opcao == 2:\n",
        "        numero1 = float(input(\"Digite o primeiro numero: \"))\n",
        "        numero2 = float(input(\"Digite o segundo numero: \"))\n",
        "        print(f\"O resultado é {subtracao(numero1, numero2)}\")\n",
        "    elif opcao == 3:\n",
        "        numero1 = float(input(\"Digite o primeiro numero: \"))\n",
        "        numero2 = float(input(\"Digite o segundo numero: \"))\n",
        "        print(f\"O resultado é {multiplicacao(numero1, numero2)}\")\n",
        "    elif opcao == 4:\n",
        "        numero1 = float(input(\"Digite o primeiro numero: \"))\n",
        "        numero2 = float(input(\"Digite o segundo numero: \"))\n",
        "        print(f\"O resultado é {divisao(numero1, numero2)}\")\n",
        "    elif opcao == 5:\n",
        "        print(\"01-Seno\", \"02-Cosseno\", \"03-Tangente\", sep=\"\\n\")\n",
        "        opcao_trigonometria = int(input(\"Escolha uma opção: \"))\n",
        "        numero1 = float(input(\"Digite um numero no angulo radiano: \"))\n",
        "        print(f\"{trigonometricas(numero1, opcao_trigonometria)}\")\n",
        "    elif opcao == 6:\n",
        "        numero1 = float(input(\"Digite o primeiro numero: \"))\n",
        "        numero2 = float(input(\"Digite o segundo numero: \"))\n",
        "        print(f\"O resultado é {exponenciacao(numero1, numero2)}\")\n",
        "    elif opcao == 7:\n",
        "        numero1 = float(input(\"Digite o primeiro numero: \"))\n",
        "        numero2 = float(input(\"Digite o segundo numero: \"))\n",
        "        print(f\"O resultado é {logaritmos(numero1, numero2)}\")\n",
        "    else:\n",
        "        print(\"Nenhuma opcao válida - Tente novamente.\")\n",
        "\n",
        "\n",
        "menu()"
      ],
      "metadata": {
        "colab": {
          "base_uri": "https://localhost:8080/"
        },
        "id": "L0D_HCBiEKdX",
        "outputId": "001c9411-285a-4730-b0a4-a01338690740",
        "collapsed": true
      },
      "execution_count": null,
      "outputs": [
        {
          "output_type": "stream",
          "name": "stdout",
          "text": [
            "1. Calculadora Científica\n",
            "Escolha um número para realizar a operação \n",
            "01-adição \n",
            "02-subtração \n",
            "03-multiplicação \n",
            "04-divisão \n",
            "05-trigonométricas \n",
            "06-exponenciação \n",
            "07-logaritmos\n",
            "Digite sua escolha: 5\n",
            "01-Seno\n",
            "02-Cosseno\n",
            "03-Tangente\n",
            "Escolha uma opção: 3\n",
            "Digite um numero no angulo radiano: 60\n",
            "O valor da tangente é 1.7320508075688767\n"
          ]
        }
      ]
    },
    {
      "cell_type": "markdown",
      "source": [
        "2. Conversor de Unidades\n",
        "   - Crie uma função que converta entre diferentes unidades de medida (por exemplo, metros para quilômetros, Celsius para Fahrenheit, etc.). A função deve receber a unidade original e a unidade desejada como parâmetros."
      ],
      "metadata": {
        "id": "Nn4lFjGUHgAg"
      }
    },
    {
      "cell_type": "code",
      "source": [
        "print(\"2. Conversor de Unidades\")\n",
        "\n",
        "def metro_para_km(metro):\n",
        "    return metro / 1000\n",
        "\n",
        "def temperatura_celsuis_fahrenheit(celsius):\n",
        "    f = (9/5 * celsius) + 32\n",
        "    return f\n",
        "\n",
        "def temperatura_fahrenheit_celsuis(fahrenheit):\n",
        "    c = (fahrenheit - 32) * 5/9\n",
        "    return c\n",
        "\n",
        "def km_para_metro(km):\n",
        "    return km * 1000\n",
        "\n",
        "\n",
        "def conversor():\n",
        "    print(\"Escolha um número para realizar a operação\",\"01-metros para quilômetros \" , \"02-quilômetros para metro\",\n",
        "        \"03-Celsius para Fahrenheit\", \"04-Fahrenheit para Celsius\", sep=\".\\n\")\n",
        "    opcao = int(input(\"Digite sua escolha: \"))\n",
        "    numero = float(input(\"Digite o número para conversão: \"))\n",
        "\n",
        "    if opcao == 1:\n",
        "        print(f\"A conversão do numero {numero} que está em metros, para quilometros ficou {metro_para_km(numero):.2f} \")\n",
        "    elif opcao == 2:\n",
        "        print(f\"A conversão do numero {numero} que está em quilometros, para metros ficou {km_para_metro(numero):.2f} \")\n",
        "    elif opcao == 3:\n",
        "        print(f\"A conversão do numero {numero} que está em Celsius, para Fahrenheit ficou {temperatura_celsuis_fahrenheit(numero):.2f} \")\n",
        "    elif opcao == 4:\n",
        "        print(f\"A conversão do numero {numero} que está em Fahrenheit, para Celsius ficou {temperatura_fahrenheit_celsuis(numero):.2f} \")\n",
        "    else:\n",
        "        print(\"Opção errada!\")\n",
        "\n",
        "\n",
        "conversor()"
      ],
      "metadata": {
        "id": "i7ZWcm3qHi0w",
        "colab": {
          "base_uri": "https://localhost:8080/"
        },
        "outputId": "b9274e04-3c7e-432d-a845-07fc6bce7a37"
      },
      "execution_count": null,
      "outputs": [
        {
          "output_type": "stream",
          "name": "stdout",
          "text": [
            "2. Conversor de Unidades\n",
            "Escolha um número para realizar a operação.\n",
            "01-metros para quilômetros .\n",
            "02-quilômetros para metro.\n",
            "03-Celsius para Fahrenheit.\n",
            "04-Fahrenheit para Celsius\n",
            "Digite sua escolha: 4\n",
            "Digite o número para conversão: 70\n",
            "A conversão do numero 70.0 que está em Fahrenheit, para Celsius ficou 21.11 \n"
          ]
        }
      ]
    },
    {
      "cell_type": "markdown",
      "source": [
        "3. Verificador de Palíndromo\n",
        "   - Escreva uma função que verifique se uma determinada palavra ou frase é um palíndromo (lê-se da mesma forma de frente para trás). A função deve ignorar espaços e pontuações."
      ],
      "metadata": {
        "id": "qzqLuZPucEOl"
      }
    },
    {
      "cell_type": "code",
      "source": [
        "import string\n",
        "import unicodedata\n",
        "\n",
        "def remover_acento_limpar_texto(frase):\n",
        "    texto_sem_espacos = frase.replace(\" \", \"\")\n",
        "    texto_sem_pontuacao = texto_sem_espacos.translate(str.maketrans('', '', string.punctuation))\n",
        "    texto_normalizado = unicodedata.normalize('NFD', texto_sem_pontuacao)\n",
        "    return ''.join(c for c in texto_normalizado if not unicodedata.combining(c))\n",
        "\n",
        "def palindromo():\n",
        "  frase = str(input(\"Digite uma frase \")).strip().upper()\n",
        "  junto = remover_acento_limpar_texto(frase)\n",
        "  inverso = junto[::-1]\n",
        "  print(\"O inverso de {} é {}\".format(junto, inverso))\n",
        "  if inverso == junto:\n",
        "   print(\"Temos um palindromo\")\n",
        "  else:\n",
        "   print('A frase digitada não é um palindromo!')\n",
        "\n",
        "palindromo()\n",
        "\n"
      ],
      "metadata": {
        "colab": {
          "base_uri": "https://localhost:8080/"
        },
        "id": "WnRiBPifcFiJ",
        "outputId": "483ee60f-c87b-4e03-a57e-ead0933009b3"
      },
      "execution_count": null,
      "outputs": [
        {
          "output_type": "stream",
          "name": "stdout",
          "text": [
            "Digite uma frase Socorram-me, subi no ônibus em Marrocos\n",
            "O inverso de SOCORRAMMESUBINOONIBUSEMMARROCOS é SOCORRAMMESUBINOONIBUSEMMARROCOS\n",
            "Temos um palindromo\n"
          ]
        }
      ]
    },
    {
      "cell_type": "markdown",
      "source": [
        "4. Gerador de Senhas Seguras\n",
        "   - Desenvolva uma função que gere uma senha segura com um comprimento especificado. A senha deve conter letras maiúsculas e minúsculas, números e símbolos especiais."
      ],
      "metadata": {
        "id": "XcPmGR-wqOFt"
      }
    },
    {
      "cell_type": "code",
      "source": [
        "import string\n",
        "import random\n",
        "\n",
        "def numero_aleatorio(min, max):\n",
        "    return random.randint(min, max)\n",
        "\n",
        "def gerador_de_senha_segura(comprimento):\n",
        "\n",
        "    alfabeto = string.ascii_letters\n",
        "    valor_senha = []\n",
        "    for i in range(comprimento):\n",
        "        numero = numero_aleatorio(0, len(alfabeto))\n",
        "        valor_senha.append(alfabeto[numero])\n",
        "    valor_senha.append('@')\n",
        "    valor_senha.append(f\"{numero_aleatorio(1, 100):02d}\")\n",
        "    return ''.join(valor_senha)\n",
        "\n",
        "comprimento = int(input(\"Digite o número da qtd. letras da sua senha: \"))\n",
        "\n",
        "print(f\"Sua senha gerada aleatoriamente é: {gerador_de_senha_segura(comprimento)}\")"
      ],
      "metadata": {
        "colab": {
          "base_uri": "https://localhost:8080/"
        },
        "id": "w0AlP4XxqVrW",
        "outputId": "074c9859-1617-43e0-d8ac-eef8ce91fa18"
      },
      "execution_count": null,
      "outputs": [
        {
          "output_type": "stream",
          "name": "stdout",
          "text": [
            "Digite o número da qtd. letras da sua senha: 2\n",
            "Sua senha gerada aleatoriamente é: mQ@50\n"
          ]
        }
      ]
    },
    {
      "cell_type": "markdown",
      "source": [
        "5. Ordenação de Listas\n",
        "   - Implemente uma função que receba uma lista de números ou strings e a ordene usando um algoritmo de ordenação de sua escolha (por exemplo, QuickSort, MergeSort). A função deve permitir escolher entre ordem crescente ou decrescente.\n"
      ],
      "metadata": {
        "id": "HegyrqbI274L"
      }
    },
    {
      "cell_type": "code",
      "source": [
        "def quicksort(arr):\n",
        "    if len(arr) <= 1:\n",
        "        return arr\n",
        "    pivot = arr[len(arr) // 2]\n",
        "    left = [x for x in arr if x < pivot]\n",
        "    middle = [x for x in arr if x == pivot]\n",
        "    right = [x for x in arr if x > pivot]\n",
        "    return quicksort(left) + middle + quicksort(right)\n",
        "\n",
        "def opcao(escolha, lista):\n",
        "\n",
        "    nova_lista = quicksort(lista)\n",
        "    if escolha == 1:\n",
        "        print(nova_lista)\n",
        "    elif escolha == 2:\n",
        "        print(nova_lista[::-1])\n",
        "    else:\n",
        "        print('Opcao errada!')\n",
        "\n",
        "\n",
        "lista_numero = [5, 7, 80, 9, 8, 1, 85, 3]\n",
        "lista_nome = ['Thais', 'Alex', 'Mariana', 'Milena', 'Dienyffer']\n",
        "\n",
        "print(\"Tipo de ordenação\", \"01-crescente\", \"02-decrescente\")\n",
        "opcao_escolhida = int(input(\"Digite o tipo de ordenação: \"))\n",
        "\n",
        "opcao(opcao_escolhida, lista_numero)\n",
        "opcao(opcao_escolhida, lista_nome)"
      ],
      "metadata": {
        "colab": {
          "base_uri": "https://localhost:8080/"
        },
        "id": "BnyJaN1T2_k3",
        "outputId": "46fd0b70-e5bb-4b73-c109-f116ef1a5b34"
      },
      "execution_count": null,
      "outputs": [
        {
          "output_type": "stream",
          "name": "stdout",
          "text": [
            "Tipo de ordenação 01-crescente 02-decrescente\n",
            "Digite o tipo de ordenação: 01\n",
            "[1, 3, 5, 7, 8, 9, 80, 85]\n",
            "['Alex', 'Dienyffer', 'Mariana', 'Milena', 'Thais']\n"
          ]
        }
      ]
    },
    {
      "cell_type": "markdown",
      "source": [
        "6. Validador de CPF\n",
        "   - Crie uma função que valide um CPF (Cadastro de Pessoas Físicas) de acordo com as regras brasileiras, verificando se o CPF é válido ou não."
      ],
      "metadata": {
        "id": "F38baU4A9KFI"
      }
    },
    {
      "cell_type": "code",
      "source": [
        "def validar_cpf(cpf):\n",
        "    cpf = ''.join(filter(str.isdigit, cpf))\n",
        "\n",
        "    if len(cpf) != 11:\n",
        "        return False\n",
        "\n",
        "    if cpf == '0' * 11:\n",
        "        return False\n",
        "\n",
        "    soma1 = sum(int(cpf[i]) * (10 - i) for i in range(9))\n",
        "    resto1 = soma1 % 11\n",
        "    digito1 = 0 if resto1 < 2 else 11 - resto1\n",
        "\n",
        "    soma2 = sum(int(cpf[i]) * (11 - i) for i in range(10))\n",
        "    resto2 = soma2 % 11\n",
        "    digito2 = 0 if resto2 < 2 else 11 - resto2\n",
        "\n",
        "    return cpf[-2:] == f\"{digito1}{digito2}\"\n",
        "\n",
        "cpf_digitado = input(\"Digite um CPF: \")\n",
        "if validar_cpf(cpf_digitado):\n",
        "    print(f\"O CPF número {cpf_digitado} é válido!\")\n",
        "else:\n",
        "    print(f\"O CPF número {cpf_digitado} é inválido, tente novamente.\")"
      ],
      "metadata": {
        "colab": {
          "base_uri": "https://localhost:8080/"
        },
        "id": "zg3qspyZ9OY7",
        "outputId": "7b5f4cc7-ed29-433a-cf41-4e4f42dfb098"
      },
      "execution_count": null,
      "outputs": [
        {
          "output_type": "stream",
          "name": "stdout",
          "text": [
            "Digite um CPF: 000.000.000-00\n",
            "O CPF número 000.000.000-00 é inválido, tente novamente.\n"
          ]
        }
      ]
    },
    {
      "cell_type": "markdown",
      "source": [
        "7. Jogo da Velha\n",
        "   - Escreva funções para implementar o jogo da velha, incluindo a verificação de vitória, empate, e a atualização do tabuleiro com cada jogada."
      ],
      "metadata": {
        "id": "PWksZtgpClNo"
      }
    },
    {
      "cell_type": "code",
      "source": [
        "def menu():\n",
        "  continuar=1\n",
        "  while continuar:\n",
        "    continuar = int(input(\"0 - Sair \\n\" + \"1 - Jogar novamente \\n\"))\n",
        "    if continuar:\n",
        "      game()\n",
        "    else:\n",
        "      print(\"Até o próximo jogo!\")\n",
        "\n",
        "def game():\n",
        "  jogada = 0\n",
        "\n",
        "  while ganhou() == 0:\n",
        "    print(\"\\nJogador \", jogada%2 + 1)\n",
        "    exibe()\n",
        "    linha = int(input(\"\\nLinha:\"))\n",
        "    coluna = int(input(\"Coluna:\"))\n",
        "\n",
        "    if board[linha-1][coluna-1] == 0:\n",
        "      if(jogada%2+1)==1:\n",
        "        board[linha-1][coluna-1]=1\n",
        "      else:\n",
        "        board[linha-1][coluna-1]=-1\n",
        "    else:\n",
        "      print(\"Este espaço nao está vazio\")\n",
        "      jogada -=1\n",
        "\n",
        "    if ganhou():\n",
        "      print(\"Jogador \", jogada%2 + 1,\"ganhou após \", jogada+1,\" rodadas.\")\n",
        "\n",
        "    jogada +=1\n",
        "\n",
        "def ganhou():\n",
        "    for i in range(3):\n",
        "      soma = board[i][0] + board[i][1] + board[i][2]\n",
        "      if soma==3 or soma ==-3:\n",
        "        return 1\n",
        "\n",
        "    for i in range(3):\n",
        "      soma = board[0][i]+board[1][i]+board[2][i]\n",
        "      if soma==3 or soma ==-3:\n",
        "        return 1\n",
        "\n",
        "    diagonal1 = board[0][0]+board[1][1]+board[2][2]\n",
        "    diagonal2 = board[0][2]+board[1][1]+board[2][0]\n",
        "    if diagonal1==3 or diagonal1==-3 or diagonal2==3 or diagonal2==-3:\n",
        "      return 1\n",
        "\n",
        "    return 0\n",
        "\n",
        "def exibe():\n",
        "    for i in range(3):\n",
        "      for j in range(3):\n",
        "        if board[i][j] == 0:\n",
        "          print(\"_\", end=\" \")\n",
        "        elif board[i][j] == 1:\n",
        "          print(\" X \", end=\" \")\n",
        "        else:\n",
        "          print(\" O \", end=\" \")\n",
        "      print()\n",
        "\n",
        "board= [ [0,0,0],\n",
        "         [0,0,0],\n",
        "         [0,0,0] ]\n",
        "\n",
        "menu()"
      ],
      "metadata": {
        "colab": {
          "base_uri": "https://localhost:8080/"
        },
        "collapsed": true,
        "id": "XpZ9CeqxCpQN",
        "outputId": "60f37bc4-0d7d-486c-efe3-3dbda3fbd048"
      },
      "execution_count": null,
      "outputs": [
        {
          "output_type": "stream",
          "name": "stdout",
          "text": [
            "0 - Sair \n",
            "1 - Jogar novamente \n",
            "1\n",
            "\n",
            "Jogador  1\n",
            "_ _ _ \n",
            "_ _ _ \n",
            "_ _ _ \n",
            "\n",
            "Linha:1\n",
            "Coluna:1\n",
            "\n",
            "Jogador  2\n",
            " X  _ _ \n",
            "_ _ _ \n",
            "_ _ _ \n",
            "\n",
            "Linha:2\n",
            "Coluna:1\n",
            "\n",
            "Jogador  1\n",
            " X  _ _ \n",
            " O  _ _ \n",
            "_ _ _ \n",
            "\n",
            "Linha:1\n",
            "Coluna:2\n",
            "\n",
            "Jogador  2\n",
            " X   X  _ \n",
            " O  _ _ \n",
            "_ _ _ \n",
            "\n",
            "Linha:2\n",
            "Coluna:2\n",
            "\n",
            "Jogador  1\n",
            " X   X  _ \n",
            " O   O  _ \n",
            "_ _ _ \n",
            "\n",
            "Linha:1\n",
            "Coluna:3\n",
            "Jogador  1 ganhou após  5  rodadas.\n",
            "0 - Sair \n",
            "1 - Jogar novamente \n",
            "0\n",
            "Saindo.\n"
          ]
        }
      ]
    },
    {
      "cell_type": "markdown",
      "source": [
        "8. Análise de Sentimento\n",
        "   - Desenvolva uma função que analise uma frase ou texto e determine se o sentimento é positivo, negativo ou neutro, usando uma abordagem simples baseada em palavras-chave."
      ],
      "metadata": {
        "id": "AzY-2jG0Lc2f"
      }
    },
    {
      "cell_type": "code",
      "source": [
        "def sentimentos():\n",
        "    palavras_chave_positivas = [\"feliz\", \"felizmente\", \"alegre\", \"bom\", \"ótimo\", \"excelente\", \"agradável\", \"maravilhoso\", \"recomendo\"]\n",
        "    palavras_chave_negativas = [\"triste\", \"tristemente\", \"chateado\", \"mau\", \"ruim\", \"péssimo\", \"desagradável\", \"frustrado\"]\n",
        "\n",
        "    sentimento = 0\n",
        "\n",
        "    frase = input(\"Digite uma frase: \").lower()\n",
        "\n",
        "    for palavra in frase.split():\n",
        "        if palavra in palavras_chave_positivas:\n",
        "            sentimento += 1\n",
        "        elif palavra in palavras_chave_negativas:\n",
        "            sentimento -= 1\n",
        "\n",
        "    if sentimento > 0:\n",
        "        print(\"O sentimento é positivo\")\n",
        "    elif sentimento < 0:\n",
        "        print(\"O sentimento é negativo\")\n",
        "    else:\n",
        "        print(\"O sentimento é neutro\")\n",
        "\n",
        "sentimentos()\n"
      ],
      "metadata": {
        "colab": {
          "base_uri": "https://localhost:8080/"
        },
        "id": "ghRUOS3TLmBO",
        "outputId": "da35f018-ef1a-44fd-9485-892d50e7e1c5"
      },
      "execution_count": null,
      "outputs": [
        {
          "output_type": "stream",
          "name": "stdout",
          "text": [
            "Digite uma frase: Felizmente posso estudar.\n",
            "O sentimento é positivo\n"
          ]
        }
      ]
    },
    {
      "cell_type": "markdown",
      "source": [
        "9. Sistema de Votação\n",
        "   - Crie um sistema de votação simples em que os usuários podem votar em diferentes opções. A função deve calcular e exibir o vencedor com base nos votos."
      ],
      "metadata": {
        "id": "zWiQIZdxqrJ1"
      }
    },
    {
      "cell_type": "code",
      "source": [
        "def coleta_votos(candidatos):\n",
        "    votos = [0] * len(candidatos)\n",
        "    while True:\n",
        "        for i, candidato in enumerate(candidatos, start=1):\n",
        "            print(f\"{i} - {candidato}\")\n",
        "        candidato = input(\"Escolha o número de seu candidato (ou digite 'sair' para encerrar): \")\n",
        "        if candidato.lower() == \"sair\":\n",
        "            break\n",
        "        if candidato.isdigit() and int(candidato) in range(1, len(candidatos)):\n",
        "            votos[int(candidato) - 1] += 1\n",
        "        else:\n",
        "            print(\"Opção inválida. Tente novamente.\")\n",
        "    return votos\n",
        "\n",
        "candidatos = [\"Dienyffer\", \"Alex\", \"Thais\", \"Milena\", \"Mariana\"]\n",
        "votos = coleta_votos(candidatos)\n",
        "print(\"Votos registrados:\", votos)\n",
        "\n",
        "candidato_vencedor = candidatos[votos.index(max(votos))]\n",
        "print(f\"O candidato vencedor é: {candidato_vencedor}\")\n"
      ],
      "metadata": {
        "colab": {
          "base_uri": "https://localhost:8080/"
        },
        "collapsed": true,
        "id": "AAOd-cs8ru88",
        "outputId": "f68acda6-7eee-4b7a-a498-31d8a584435f"
      },
      "execution_count": null,
      "outputs": [
        {
          "output_type": "stream",
          "name": "stdout",
          "text": [
            "1 - Dienyffer\n",
            "2 - Alex\n",
            "3 - Thais\n",
            "4 - Milena\n",
            "5 - Mariana\n",
            "Escolha o número de seu candidato (ou digite 'sair' para encerrar): 1\n",
            "1 - Dienyffer\n",
            "2 - Alex\n",
            "3 - Thais\n",
            "4 - Milena\n",
            "5 - Mariana\n",
            "Escolha o número de seu candidato (ou digite 'sair' para encerrar): 1\n",
            "1 - Dienyffer\n",
            "2 - Alex\n",
            "3 - Thais\n",
            "4 - Milena\n",
            "5 - Mariana\n",
            "Escolha o número de seu candidato (ou digite 'sair' para encerrar): 2\n",
            "1 - Dienyffer\n",
            "2 - Alex\n",
            "3 - Thais\n",
            "4 - Milena\n",
            "5 - Mariana\n",
            "Escolha o número de seu candidato (ou digite 'sair' para encerrar): sair\n",
            "Votos registrados: [2, 1, 0, 0, 0]\n",
            "O candidato vencedor é: Dienyffer\n"
          ]
        }
      ]
    },
    {
      "cell_type": "markdown",
      "source": [
        "10. Simulação de Dados de Temperatura\n",
        "   - Escreva uma função que simule a coleta de dados de temperatura de diferentes cidades ao longo de uma semana e, em seguida, calcule a média, a temperatura mais alta e mais baixa.\n"
      ],
      "metadata": {
        "id": "cnqsHuvRSRDG"
      }
    },
    {
      "cell_type": "code",
      "source": [
        "import math\n",
        "\n",
        "def temperatura_media():\n",
        "    num_cidades = int(input(\"Digite o número de cidades: \"))\n",
        "    for _ in range(num_cidades):\n",
        "        cidade = input(\"Digite o nome da cidade: \")\n",
        "        temperatura = []\n",
        "        for i in range(7):\n",
        "            temperatura.append(float(input(f\"Digite a temperatura para {cidade} no dia {i + 1}: \")))\n",
        "        media = sum(temperatura) / len(temperatura)\n",
        "        print(f\"A média da temperatura de {cidade} é {media:.2f}\")\n",
        "        print(f\"A maior temperatura de {cidade} é {max(temperatura)}\")\n",
        "        print(f\"A menor temperatura de {cidade} é {min(temperatura)}\")\n",
        "\n",
        "temperatura_media()\n"
      ],
      "metadata": {
        "colab": {
          "base_uri": "https://localhost:8080/"
        },
        "collapsed": true,
        "id": "phyMXYWVOZum",
        "outputId": "35d1d891-ece2-4eb3-87c1-a71c2b1b4061"
      },
      "execution_count": null,
      "outputs": [
        {
          "output_type": "stream",
          "name": "stdout",
          "text": [
            "Digite o número de cidades: 2\n",
            "Digite o nome da cidade: Porto Alegre\n",
            "Digite a temperatura para Porto Alegre no dia 1: 12\n",
            "Digite a temperatura para Porto Alegre no dia 2: 4\n",
            "Digite a temperatura para Porto Alegre no dia 3: 5\n",
            "Digite a temperatura para Porto Alegre no dia 4: 8\n",
            "Digite a temperatura para Porto Alegre no dia 5: 9\n",
            "Digite a temperatura para Porto Alegre no dia 6: 16\n",
            "Digite a temperatura para Porto Alegre no dia 7: 10\n",
            "A média da temperatura de Porto Alegre é 9.14\n",
            "A maior temperatura de Porto Alegre é 16.0\n",
            "A menor temperatura de Porto Alegre é 4.0\n",
            "Digite o nome da cidade: Gravataí\n",
            "Digite a temperatura para Gravataí no dia 1: 11\n",
            "Digite a temperatura para Gravataí no dia 2: 5\n",
            "Digite a temperatura para Gravataí no dia 3: 4\n",
            "Digite a temperatura para Gravataí no dia 4: 6\n",
            "Digite a temperatura para Gravataí no dia 5: 8\n",
            "Digite a temperatura para Gravataí no dia 6: 2\n",
            "Digite a temperatura para Gravataí no dia 7: 9\n",
            "A média da temperatura de Gravataí é 6.43\n",
            "A maior temperatura de Gravataí é 11.0\n",
            "A menor temperatura de Gravataí é 2.0\n"
          ]
        }
      ]
    },
    {
      "cell_type": "markdown",
      "source": [
        "11. Gerador de Números Aleatórios\n",
        "   - Desenvolva uma função que gere uma lista de números aleatórios dentro de um intervalo específico e calcule a média, mediana, e moda dos números gerados."
      ],
      "metadata": {
        "id": "cLIaoSJbXoFm"
      }
    },
    {
      "cell_type": "code",
      "source": [
        "import random\n",
        "import statistics\n",
        "\n",
        "def gerar_numeros_aleatorios(inicio, fim, quantidade):\n",
        "  numeros = [random.randint(inicio, fim) for i in\n",
        "  range(quantidade)]\n",
        "  media = statistics.mean(numeros)\n",
        "  mediana = statistics.median(numeros)\n",
        "  moda = statistics.mode(numeros)\n",
        "  maximo = max(numeros)\n",
        "  minimo = min(numeros)\n",
        "\n",
        "  print(numeros)\n",
        "  print(f'A média é {media:.2f}')\n",
        "  print(f'A mediana é {mediana:.2f}')\n",
        "  print(f'A moda é {moda:.2f}')\n",
        "  print(f'O valor máximo é {maximo}')\n",
        "  print(f'O valor mínimo é {minimo}')\n",
        "\n",
        "gerar_numeros_aleatorios(1, 100, 5)"
      ],
      "metadata": {
        "colab": {
          "base_uri": "https://localhost:8080/"
        },
        "id": "wlhvDreqXuwl",
        "outputId": "0dca061a-dbaa-443f-de49-4924436887fe",
        "collapsed": true
      },
      "execution_count": null,
      "outputs": [
        {
          "output_type": "stream",
          "name": "stdout",
          "text": [
            "[53, 84, 13, 99, 50]\n",
            "A média é 59.80\n",
            "A mediana é 53.00\n",
            "A moda é 53.00\n",
            "O valor máximo é 99\n",
            "O valor mínimo é 13\n"
          ]
        }
      ]
    },
    {
      "cell_type": "markdown",
      "source": [
        "12. Analisador de Texto\n",
        "   - Crie uma função que receba um texto e retorne o número de palavras, frases, e caracteres, além de calcular a frequência de cada palavra no texto."
      ],
      "metadata": {
        "id": "PUntLVVE0X1l"
      }
    },
    {
      "cell_type": "code",
      "source": [
        "def contar_palavras(texto):\n",
        "    palavras = texto.split()\n",
        "    num_palavras = len(palavras)\n",
        "    num_frases = texto.count('.') + texto.count('!') + texto.count('?')\n",
        "    num_caracteres = len(texto)\n",
        "    frequencia_palavras = {}\n",
        "    for palavra in palavras:\n",
        "        if palavra in frequencia_palavras:\n",
        "            frequencia_palavras[palavra] += 1\n",
        "        else:\n",
        "            frequencia_palavras[palavra] = 1\n",
        "    return num_palavras, num_frases, num_caracteres, frequencia_palavras\n",
        "\n",
        "texto = input(\"Digite um texto: \")\n",
        "resultado = contar_palavras(texto)\n",
        "print(f'Número de palavras: {resultado[0]}')\n",
        "print(f'Númerto de frases: {resultado[1]}')\n",
        "print(f'Número de caracteres: {resultado[2]}')\n",
        "print('Frequência de palavras: ')\n",
        "for palavra, frequencia in resultado[3].items():\n",
        "  print(f'{palavra}: {frequencia}')"
      ],
      "metadata": {
        "colab": {
          "base_uri": "https://localhost:8080/"
        },
        "collapsed": true,
        "id": "rVamkbkd0mHP",
        "outputId": "561d2a24-6cdc-40f1-c356-20754abc8711"
      },
      "execution_count": null,
      "outputs": [
        {
          "output_type": "stream",
          "name": "stdout",
          "text": [
            "Digite um texto: Aqui está um fato curioso: Tubarões são mais antigos que árvores.\n",
            "Número de palavras: 11\n",
            "Númerto de frases: 1\n",
            "Número de caracteres: 65\n",
            "Frequência de palavras: \n",
            "Aqui: 1\n",
            "está: 1\n",
            "um: 1\n",
            "fato: 1\n",
            "curioso:: 1\n",
            "Tubarões: 1\n",
            "são: 1\n",
            "mais: 1\n",
            "antigos: 1\n",
            "que: 1\n",
            "árvores.: 1\n"
          ]
        }
      ]
    },
    {
      "cell_type": "markdown",
      "source": [
        "13. Cálculo de Juros Compostos\n",
        "   - Escreva uma função que calcule o valor futuro de um investimento com base nos juros compostos. A função deve permitir a personalização do principal, taxa de juros, e número de períodos."
      ],
      "metadata": {
        "id": "XQLSK9hCIfeq"
      }
    },
    {
      "cell_type": "code",
      "source": [
        "def calcular_valor_futuro(principal, taxa_juros, periodo):\n",
        "  valor_futuro = principal * (1 + taxa_juros) ** periodo\n",
        "  return valor_futuro\n",
        "\n",
        "principal = float(input(\"Digite o valor do principal: \"))\n",
        "taxa_juros = float(input(\"Qual a taxa de juros anual? \")) / 100\n",
        "periodo = int(input(\"Por quantos meses o valor será aplicado? \"))\n",
        "\n",
        "valor_investido = calcular_valor_futuro(principal, taxa_juros, periodo)\n",
        "print(f\"O valor futuro do investimento é: R$ {valor_investido:.2f}\")"
      ],
      "metadata": {
        "id": "u1RhpA8fIqVb"
      },
      "execution_count": null,
      "outputs": []
    },
    {
      "cell_type": "markdown",
      "source": [
        "14. Conversor de Data\n",
        "   - Desenvolva uma função que converta datas entre diferentes formatos (por exemplo, de \"DD/MM/YYYY\" para \"YYYY-MM-DD\") e que valide se a data inserida é válida."
      ],
      "metadata": {
        "id": "-tUwB2ZTM2aB"
      }
    },
    {
      "cell_type": "code",
      "source": [
        "def conversao_data(data):\n",
        "    dia, mes, ano = map(int, data.split('/'))\n",
        "    data_formatada = f'{ano:04d}-{mes:02d}-{dia:02d}'\n",
        "    return data_formatada\n",
        "\n",
        "def validacao_data(data):\n",
        "    try:\n",
        "      dia, mes, ano = map(int, data.split('/'))\n",
        "      if 1 <= dia <= 31 and 1 <= mes <= 12 and ano >= 0:\n",
        "        return True\n",
        "      else:\n",
        "        return False\n",
        "    except ValueError:\n",
        "      return False\n",
        "\n",
        "\n",
        "data = input('Digite uma data no formato DD/MM/YYYY: ')\n",
        "if validacao_data(data):\n",
        "    print(f'Data válida, a conversão é: {conversao_data(data)}')\n",
        "else:\n",
        "    print('Data inválida. Tente novamente.')"
      ],
      "metadata": {
        "colab": {
          "base_uri": "https://localhost:8080/"
        },
        "id": "2zTzvleTM6fG",
        "outputId": "d12a5e45-abb0-4c74-cc84-ddc1d4525609"
      },
      "execution_count": null,
      "outputs": [
        {
          "output_type": "stream",
          "name": "stdout",
          "text": [
            "Digite uma data no formato DD/MM/YYYY: 14/08/2024\n",
            "Data válida, a conversão é: 2024-08-14\n"
          ]
        }
      ]
    },
    {
      "cell_type": "markdown",
      "source": [
        "15. Simulador de Lançamento de Dados\n",
        "   - Crie uma função que simule o lançamento de um dado (ou múltiplos dados) um número específico de vezes e exiba a frequência de cada face."
      ],
      "metadata": {
        "id": "ZwRM6JehSPqX"
      }
    },
    {
      "cell_type": "code",
      "source": [
        "import random\n",
        "\n",
        "def dado_lanc(num_lancamentos):\n",
        "    frequencias = [0] * 6\n",
        "\n",
        "    for _ in range(num_lancamentos):\n",
        "        resultado = random.randint(1, 6)\n",
        "        frequencias[resultado - 1] += 1\n",
        "\n",
        "    return frequencias\n",
        "\n",
        "qtd_lancamentos = int(input(\"Digite o número de lançamentos: \"))\n",
        "frequencias = dado_lanc(qtd_lancamentos)\n",
        "for i in range(6):\n",
        "    print(f\"Face {i + 1}: {frequencias[i]} vezes\")"
      ],
      "metadata": {
        "colab": {
          "base_uri": "https://localhost:8080/"
        },
        "id": "4ShdDLYLSScf",
        "outputId": "09230145-d061-4c75-c15a-7c370335e40d"
      },
      "execution_count": null,
      "outputs": [
        {
          "output_type": "stream",
          "name": "stdout",
          "text": [
            "Digite o número de lançamentos: 20\n",
            "Face 1: 2 vezes\n",
            "Face 2: 4 vezes\n",
            "Face 3: 2 vezes\n",
            "Face 4: 7 vezes\n",
            "Face 5: 2 vezes\n",
            "Face 6: 3 vezes\n"
          ]
        }
      ]
    }
  ]
}