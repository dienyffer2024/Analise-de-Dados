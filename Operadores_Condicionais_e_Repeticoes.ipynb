{
  "nbformat": 4,
  "nbformat_minor": 0,
  "metadata": {
    "colab": {
      "provenance": [],
      "authorship_tag": "ABX9TyNjgfZf0FtuJoTs0q2z4jAq",
      "include_colab_link": true
    },
    "kernelspec": {
      "name": "python3",
      "display_name": "Python 3"
    },
    "language_info": {
      "name": "python"
    }
  },
  "cells": [
    {
      "cell_type": "markdown",
      "metadata": {
        "id": "view-in-github",
        "colab_type": "text"
      },
      "source": [
        "<a href=\"https://colab.research.google.com/github/dienyffer2024/Analise-de-Dados/blob/main/Operadores_Condicionais_e_Repeticoes.ipynb\" target=\"_parent\"><img src=\"https://colab.research.google.com/assets/colab-badge.svg\" alt=\"Open In Colab\"/></a>"
      ]
    },
    {
      "cell_type": "markdown",
      "source": [
        "1. Cálculo de Despesa com Desconto Progressivo\n",
        "   \n",
        "   **Problema:** Crie um programa que receba o custo de três produtos e calcule o valor total. Se o total exceder 500, aplique um desconto progressivo: 10% se o total for entre 500 e 1.000, e 15% se for acima de R$ 1.000. Mostre o valor final após o desconto."
      ],
      "metadata": {
        "id": "cokWFkGBDE_Y"
      }
    },
    {
      "cell_type": "code",
      "execution_count": null,
      "metadata": {
        "colab": {
          "base_uri": "https://localhost:8080/"
        },
        "id": "9Am0gg_DC4qi",
        "outputId": "e3acc2cc-6859-4905-bfc7-529512edaa8e"
      },
      "outputs": [
        {
          "output_type": "stream",
          "name": "stdout",
          "text": [
            "1360.0\n"
          ]
        }
      ],
      "source": [
        "a = 100\n",
        "b = 200\n",
        "c = 1300\n",
        "\n",
        "soma = a + b + c\n",
        "if soma < 500:\n",
        "  print(soma)\n",
        "elif 500 < soma <= 1000:\n",
        "  print(soma * 0.9)\n",
        "else:\n",
        "  print(soma * 0.85)"
      ]
    },
    {
      "cell_type": "markdown",
      "source": [
        "2. Classificação de Idade com Mensagens Personalizadas\n",
        "  \n",
        "   **Problema:** Desenvolva um programa que receba a idade de uma pessoa e determine sua categoria: \"Criança\" (0-12 anos), \"Adolescente\" (13-17 anos), \"Adulto\" (18-64 anos) ou \"Idoso\" (65 anos ou mais). Exiba uma mensagem personalizada para cada faixa etária, como \"Você é uma criança cheia de energia!\" ou \"Você tem muita sabedoria como idoso!\"."
      ],
      "metadata": {
        "id": "ek8G-N-Mv-M-"
      }
    },
    {
      "cell_type": "code",
      "source": [
        "idade = int(input(\"Digite sua idade: \"))\n",
        "\n",
        "if idade >= 0 and idade <= 12:\n",
        "    print(\"Você é uma criança. Ser criança é ser feliz com pouco e acreditar que o mundo é um parque.\")\n",
        "elif idade >= 13 and idade <= 17:\n",
        "    print(\"Você é um adolescente. Tenha juízo, mas não muito.\")\n",
        "elif idade >= 18 and idade <= 59:\n",
        "    print(\"Você é um adulto. Ser adulto com alma de criança é um dos maiores presentes da vida.\")\n",
        "else:\n",
        "    print(\"Você é um idoso. A vida é uma jornada, não uma corrida.\")"
      ],
      "metadata": {
        "id": "sG7jlhYhwhVl",
        "colab": {
          "base_uri": "https://localhost:8080/"
        },
        "outputId": "210c23e4-9b7e-45ca-c333-5fc141ec284a"
      },
      "execution_count": null,
      "outputs": [
        {
          "output_type": "stream",
          "name": "stdout",
          "text": [
            "Digite sua idade: 30\n",
            "Você é um adulto. Ser adulto com alma de criança é um dos maiores presentes da vida.\n"
          ]
        }
      ]
    },
    {
      "cell_type": "markdown",
      "source": [
        "3. Verificação de Número Par, Ímpar e Positivo/Negativo\n",
        "   \n",
        "   **Problema:** Crie um programa que receba um número inteiro e informe se ele é par ou ímpar e, adicionalmente, se é positivo, negativo ou zero. Inclua uma mensagem especial para números que sejam múltiplos de 10."
      ],
      "metadata": {
        "id": "4UT6kwPnzpjK"
      }
    },
    {
      "cell_type": "code",
      "source": [
        "numero = int(input(\"Digiute um número inteiro: \"))\n",
        "\n",
        "if numero % 2 == 0:\n",
        "    print(\"O número é par.\")\n",
        "else:\n",
        "    print(\"O número é ímpar.\")\n",
        "\n",
        "if numero > 0:\n",
        "    print(\"O número é positivo.\")\n",
        "elif numero < 0:\n",
        "    print(\"O número é negativo.\")\n",
        "else:\n",
        "    print(\"O número é zero.\")\n",
        "\n",
        "if numero % 10 == 0:\n",
        "    print(\"Parabéns, o número é múltiplo de 10.\")"
      ],
      "metadata": {
        "colab": {
          "base_uri": "https://localhost:8080/"
        },
        "id": "yhxdztY30AJd",
        "outputId": "e7804628-d84e-4184-a087-456d44a993ec"
      },
      "execution_count": null,
      "outputs": [
        {
          "output_type": "stream",
          "name": "stdout",
          "text": [
            "Digiute um número inteiro: 500\n",
            "O número é par.\n",
            "O número é positivo.\n",
            "Parabéns, o número é múltiplo de 10.\n"
          ]
        }
      ]
    },
    {
      "cell_type": "markdown",
      "source": [
        "4. Cálculo de Média com Condição de Recuperação\n",
        "   \n",
        "   **Problema:** Desenvolva um programa que receba as notas de quatro provas e calcule a média. Se a média for menor que 5, informe que o aluno está reprovado. Se estiver entre 5 e 7, informe que o aluno está em recuperação, e se for maior ou igual a 7, informe que o aluno está aprovado."
      ],
      "metadata": {
        "id": "SD5cV4L62EzC"
      }
    },
    {
      "cell_type": "code",
      "source": [
        "prova1 = float(input(\"Digite a primeira nota: \"))\n",
        "prova2 = float(input(\"Digite a segunda nota: \"))\n",
        "prova3 = float(input(\"Digite a terceira nota: \"))\n",
        "prova4 = float(input(\"Digite a quarta nota: \"))\n",
        "\n",
        "media = (prova1 + prova2 + prova3 + prova4) / 4\n",
        "\n",
        "if media < 5:\n",
        "    print(\"Você está reprovado.\")\n",
        "elif 5 <= media <= 7:\n",
        "    print(\"Você está em recuperação.\")\n",
        "else:\n",
        "    print(\"Você está aprovado.\")"
      ],
      "metadata": {
        "colab": {
          "base_uri": "https://localhost:8080/"
        },
        "id": "Fo4C4SMT2oNk",
        "outputId": "3a10adb5-d251-4c0d-8633-35716cdfff06"
      },
      "execution_count": null,
      "outputs": [
        {
          "output_type": "stream",
          "name": "stdout",
          "text": [
            "Digite a primeira nota: 10\n",
            "Digite a segunda nota: 10\n",
            "Digite a terceira nota: 0\n",
            "Digite a quarta nota: 0\n",
            "Você está em recuperação.\n"
          ]
        }
      ]
    },
    {
      "cell_type": "markdown",
      "source": [
        "5. Classificação e Ajuste de Salário com Reajuste\n",
        "   \n",
        "   **Problema:** Crie um programa que receba o salário de um funcionário e determine sua faixa salarial: \"Baixa\" (até 2.500), \"Média\" (de 2.501 a 5.000) ou \"Alta\" (acima de 5.000). Aplique um reajuste de 7% para a faixa baixa, 5% para a faixa média e 3% para a faixa alta. Mostre o salário reajustado.\n"
      ],
      "metadata": {
        "id": "9YrEg2dR4xnB"
      }
    },
    {
      "cell_type": "code",
      "source": [
        "salario = float(input(\"Digite seu salário: \"))\n",
        "if salario <= 2500:\n",
        "    reajuste = salario * 0.07\n",
        "    print(salario + reajuste)\n",
        "elif 2500 < salario <= 5000:\n",
        "    reajuste = salario * 0.05\n",
        "    print(salario + reajuste)\n",
        "else:\n",
        "    reajuste = salario * 0.03\n",
        "    print(salario + reajuste)"
      ],
      "metadata": {
        "colab": {
          "base_uri": "https://localhost:8080/"
        },
        "id": "FlW7tNkT442V",
        "outputId": "daaed22c-0d33-45bd-aa08-9347ace93373"
      },
      "execution_count": null,
      "outputs": [
        {
          "output_type": "stream",
          "name": "stdout",
          "text": [
            "Digite seu salário: 8900\n",
            "9167.0\n"
          ]
        }
      ]
    },
    {
      "cell_type": "markdown",
      "source": [
        "6. Verificação de Ano Bissexto com Mensagens\n",
        "   \n",
        "   **Problema:** Desenvolva um programa que receba um ano e determine se ele é bissexto. Se for, informe que \"O ano é bissexto e possui 366 dias.\" Caso contrário, informe que \"O ano não é bissexto e possui 365 dias.\""
      ],
      "metadata": {
        "id": "z-qg755V7SrH"
      }
    },
    {
      "cell_type": "code",
      "source": [
        "ano = int(input(\"Digite um ano: \"))\n",
        "if ano % 4 == 0:\n",
        "  print(\"O ano é bissexto e possui 366 dias\")\n",
        "else:\n",
        "  print(\"O ano não é bissexto e possui 365 dias\")"
      ],
      "metadata": {
        "colab": {
          "base_uri": "https://localhost:8080/"
        },
        "id": "ZfgtrYbZ9fIY",
        "outputId": "86fa58c1-dcd5-4fc7-be72-4dc3adaa2392"
      },
      "execution_count": null,
      "outputs": [
        {
          "output_type": "stream",
          "name": "stdout",
          "text": [
            "Digite um ano: 2024\n",
            "O ano é bissexto e possui 366 dias\n"
          ]
        }
      ]
    },
    {
      "cell_type": "markdown",
      "source": [
        "7. Conversão e Comparação de Temperatura\n",
        "   \n",
        "   **Problema:** Crie um programa que receba uma temperatura em graus Celsius e a converta para Fahrenheit. Em seguida, verifique se a temperatura em Fahrenheit é inferior a 32°F (fria), entre 32°F e 68°F (amena), ou superior a 68°F (quente). Mostre a classificação junto com a temperatura convertida.\n"
      ],
      "metadata": {
        "id": "0FUR3ZTf-pVs"
      }
    },
    {
      "cell_type": "code",
      "source": [
        "celsius = float(input(\"Digite a temperatura em Celsius: \"))\n",
        "\n",
        "fahrenheit = (9/5) * celsius + 32\n",
        "\n",
        "if fahrenheit < 32:\n",
        "    print(f\"{fahrenheit}°F, a temperatura é fria.\")\n",
        "elif 32 <= fahrenheit <= 68:\n",
        "    print(f\"{fahrenheit}°F, a temperatura é amena.\")\n",
        "else:\n",
        "    print(f\"{fahrenheit}°F, a temperatura é quente.\")"
      ],
      "metadata": {
        "colab": {
          "base_uri": "https://localhost:8080/"
        },
        "id": "fi7jD84N-yrN",
        "outputId": "26fc9ad1-d96d-4a80-cacc-333278e3259a"
      },
      "execution_count": null,
      "outputs": [
        {
          "output_type": "stream",
          "name": "stdout",
          "text": [
            "Digite a temperatura em Celsius: -1\n",
            "30.2°F, a temperatura é fria.\n"
          ]
        }
      ]
    },
    {
      "cell_type": "markdown",
      "source": [
        "8. Comparação de Três Números com Verificação de Ordenação\n",
        "   \n",
        "   **Problema:** Desenvolva um programa que receba três números inteiros e determine qual é o maior e o menor. Além disso, verifique e informe se os números estão em ordem crescente, decrescente ou se não estão ordenados."
      ],
      "metadata": {
        "id": "ZUx0WMDvBBXw"
      }
    },
    {
      "cell_type": "code",
      "source": [
        "a = int(input(\"Digite o primeiro número: \"))\n",
        "b = int(input(\"Digite o segundo número: \"))\n",
        "c = int(input(\"Digite o terceiro número: \"))\n",
        "\n",
        "maior = max(a, b, c)\n",
        "menor = min(a, b, c)\n",
        "\n",
        "if a < b < c:\n",
        "    ordem = \"crescente\"\n",
        "elif a > b > c:\n",
        "    ordem = \"decrescente\"\n",
        "else:\n",
        "    ordem = \"não ordenados\"\n",
        "\n",
        "print(f\"O maior número é {maior}.\")\n",
        "print(f\"O menor número é {menor}.\")\n",
        "print(f\"Os números estão em ordem {ordem}.\")"
      ],
      "metadata": {
        "colab": {
          "base_uri": "https://localhost:8080/"
        },
        "id": "iowtJtsDBJVl",
        "outputId": "f372766b-3761-479c-f514-4c6266d4ad8a"
      },
      "execution_count": null,
      "outputs": [
        {
          "output_type": "stream",
          "name": "stdout",
          "text": [
            "Digite o primeiro número: 1\n",
            "Digite o segundo número: 2\n",
            "Digite o terceiro número: 3\n",
            "O maior número é 3.\n",
            "O menor número é 1.\n",
            "Os números estão em ordem crescente.\n"
          ]
        }
      ]
    },
    {
      "cell_type": "markdown",
      "source": [
        "9. Calculadora de Desconto com Condição de Pagamento\n",
        "   \n",
        "   **Problema:** Crie um programa que receba o valor de uma compra e determine o desconto a ser aplicado. Aplique 20% de desconto para compras acima de 1.500, 10% para compras entre 800 e 1.500, e 5% para compras abaixo de R$ 800. Se o pagamento for à vista, aplique um desconto adicional de 5% sobre o valor final com desconto."
      ],
      "metadata": {
        "id": "JzB787c_EUtT"
      }
    },
    {
      "cell_type": "code",
      "source": [
        "compra = float(input(\"Digite o valor de sua compra: \"))\n",
        "if compra >= 1500:\n",
        "    desconto = compra * 0.2\n",
        "elif 800 <= compra < 1500:\n",
        "    desconto = compra * 0.1\n",
        "else:\n",
        "    desconto = compra * 0.05\n",
        "\n",
        "valor_a_pagar = input(\"O pagamento será à vista? (sim/não): \")\n",
        "if valor_a_pagar.lower() == \"sim\":\n",
        "    desconto += compra * 0.05\n",
        "\n",
        "valor_final = compra - desconto\n",
        "print(f\"Valor com desconto: R$ {valor_final:.2f}\")"
      ],
      "metadata": {
        "colab": {
          "base_uri": "https://localhost:8080/"
        },
        "id": "9hKgeYkgEd1L",
        "outputId": "2a5dd546-c821-41ee-ea74-c43468910245"
      },
      "execution_count": null,
      "outputs": [
        {
          "output_type": "stream",
          "name": "stdout",
          "text": [
            "Digite o valor de sua compra: 800\n",
            "O pagamento será à vista? (sim/não): não\n",
            "Valor com desconto: R$ 720.00\n"
          ]
        }
      ]
    },
    {
      "cell_type": "markdown",
      "source": [
        "10. Verificação de Senha Segura com Requisitos Adicionais\n",
        "   \n",
        "   **Problema:** Desenvolva um programa que receba uma senha e verifique se ela é segura. Uma senha é considerada segura se tiver pelo menos 8 caracteres, incluir pelo menos uma letra maiúscula, uma letra minúscula, um número e um caractere especial (como !, @, #). Informe se a senha é segura ou não e liste quais requisitos estão faltando.\n"
      ],
      "metadata": {
        "id": "vxEcy5s8Hryp"
      }
    },
    {
      "cell_type": "code",
      "source": [
        "def verificar_senha(senha):\n",
        "\n",
        "    if len(senha) < 8:\n",
        "        return \"A senha não é segura. Ela deve ter pelo menos 8 caracteres.\"\n",
        "\n",
        "    if not any(c.isupper() for c in senha):\n",
        "        return \"A senha não é segura. Deve conter pelo menos uma letra maiúscula.\"\n",
        "\n",
        "    if not any(c.islower() for c in senha):\n",
        "        return \"A senha não é segura. Deve conter pelo menos uma letra minúscula.\"\n",
        "\n",
        "    if not any(c.isdigit() for c in senha):\n",
        "        return \"A senha não é segura. Deve conter pelo menos um número.\"\n",
        "\n",
        "    caracteres_especiais = \"!@#$%^&*()_+[]{}|;:,.<>?~\"\n",
        "    if not any(c in caracteres_especiais for c in senha):\n",
        "        return \"A senha não é segura. Deve conter pelo menos um caractere especial.\"\n",
        "\n",
        "    return \"A senha é segura!\"\n",
        "\n",
        "senha_digitada = input(\"Digite sua senha: \")\n",
        "resultado = verificar_senha(senha_digitada)\n",
        "print(resultado)"
      ],
      "metadata": {
        "colab": {
          "base_uri": "https://localhost:8080/"
        },
        "id": "2iCNMEGeF0Dc",
        "outputId": "d385e602-0bb2-49db-8dc3-6adb6f723d1d"
      },
      "execution_count": null,
      "outputs": [
        {
          "output_type": "stream",
          "name": "stdout",
          "text": [
            "Digite sua senha: 12a54$Ld45\n",
            "A senha é segura!\n"
          ]
        }
      ]
    },
    {
      "cell_type": "markdown",
      "source": [
        "11. Contador de Números Ímpares\n",
        "   - **Descrição:** Crie um programa que conte e imprima todos os números ímpares entre 1 e 100 usando um loop `for`."
      ],
      "metadata": {
        "id": "CwFDs-8OOd9I"
      }
    },
    {
      "cell_type": "code",
      "source": [
        "for numero in range(1, 101, 2):\n",
        "    print(numero)"
      ],
      "metadata": {
        "colab": {
          "base_uri": "https://localhost:8080/"
        },
        "id": "QoSTnMbZOlTc",
        "outputId": "f83ca2c0-4837-47db-dc2a-52ac453869a1"
      },
      "execution_count": null,
      "outputs": [
        {
          "output_type": "stream",
          "name": "stdout",
          "text": [
            "1\n",
            "3\n",
            "5\n",
            "7\n",
            "9\n",
            "11\n",
            "13\n",
            "15\n",
            "17\n",
            "19\n",
            "21\n",
            "23\n",
            "25\n",
            "27\n",
            "29\n",
            "31\n",
            "33\n",
            "35\n",
            "37\n",
            "39\n",
            "41\n",
            "43\n",
            "45\n",
            "47\n",
            "49\n",
            "51\n",
            "53\n",
            "55\n",
            "57\n",
            "59\n",
            "61\n",
            "63\n",
            "65\n",
            "67\n",
            "69\n",
            "71\n",
            "73\n",
            "75\n",
            "77\n",
            "79\n",
            "81\n",
            "83\n",
            "85\n",
            "87\n",
            "89\n",
            "91\n",
            "93\n",
            "95\n",
            "97\n",
            "99\n"
          ]
        }
      ]
    },
    {
      "cell_type": "markdown",
      "source": [
        "12. Soma de Números até um Limite\n",
        "   - **Descrição:** Desenvolva um programa que receba um número inteiro positivo e use um loop `while` para calcular a soma de todos os números de 1 até o número fornecido."
      ],
      "metadata": {
        "id": "oa3HTa1yQkab"
      }
    },
    {
      "cell_type": "code",
      "source": [
        "numero = int(input(\"Digite um número inteiro positivo: \"))\n",
        "\n",
        "soma = 0\n",
        "\n",
        "i = 1\n",
        "while i <= numero:\n",
        "    soma += i\n",
        "    i += 1\n",
        "\n",
        "print(f\"A soma dos números de 1 até {numero} é {soma}.\")"
      ],
      "metadata": {
        "colab": {
          "base_uri": "https://localhost:8080/"
        },
        "id": "FeXXRVunQqr_",
        "outputId": "256b49ed-51fa-4578-a4c5-56a1e7334140"
      },
      "execution_count": null,
      "outputs": [
        {
          "output_type": "stream",
          "name": "stdout",
          "text": [
            "Digite um número inteiro positivo: 10\n",
            "A soma dos números de 1 até 10 é 55.\n"
          ]
        }
      ]
    },
    {
      "cell_type": "markdown",
      "source": [
        "13. Número de Tentativas para Senha\n",
        "   - **Descrição:** Crie um programa que limite o número de tentativas para digitar a senha correta. O usuário deve ter no máximo 3 tentativas. Use `while` e `if`.\n"
      ],
      "metadata": {
        "id": "5hPXR_zFSRQ9"
      }
    },
    {
      "cell_type": "code",
      "source": [
        "senha_correta = \"1234\"\n",
        "tentativas = 3\n",
        "\n",
        "for tentativa in range(tentativas):\n",
        "    senha_digitada = input(\"Digite a senha: \")\n",
        "    if senha_digitada == senha_correta:\n",
        "        print(\"Acesso concedido!\")\n",
        "        break\n",
        "    else:\n",
        "        print(f\"Senha incorreta. Tentativa {tentativa + 1}/{tentativas}\")\n",
        "\n",
        "if tentativa == tentativas - 1:\n",
        "    print(\"Limite de tentativas alcançado. Acesso negado.\")"
      ],
      "metadata": {
        "colab": {
          "base_uri": "https://localhost:8080/"
        },
        "id": "65r3UmZZSra6",
        "outputId": "90f80182-7f33-403d-82d1-ef6ffe9de531"
      },
      "execution_count": null,
      "outputs": [
        {
          "output_type": "stream",
          "name": "stdout",
          "text": [
            "Digite a senha: 45454\n",
            "Senha incorreta. Tentativa 1/3\n",
            "Digite a senha: 54545\n",
            "Senha incorreta. Tentativa 2/3\n",
            "Digite a senha: 21231\n",
            "Senha incorreta. Tentativa 3/3\n",
            "Limite de tentativas alcançado. Acesso negado.\n"
          ]
        }
      ]
    },
    {
      "cell_type": "markdown",
      "source": [
        "14. Fatorial de um Número\n",
        "   - **Descrição:** Calcule o fatorial de um número fornecido pelo usuário usando um loop `for`. O fatorial de um número `n` é o produto de todos os números de 1 até `n`."
      ],
      "metadata": {
        "id": "WfyaGnpRVfPc"
      }
    },
    {
      "cell_type": "code",
      "source": [
        "numero = int(input(\"Digite um número inteiro positivo: \"))\n",
        "\n",
        "resultado = 1\n",
        "\n",
        "for i in range(1, numero + 1):\n",
        "    resultado *= i\n",
        "\n",
        "print(f\"O fatorial de {numero} é {resultado}.\")"
      ],
      "metadata": {
        "colab": {
          "base_uri": "https://localhost:8080/"
        },
        "id": "nUkuzLdQVkT2",
        "outputId": "a41998a7-a0e6-4f9d-df99-dd2097f81bdc"
      },
      "execution_count": null,
      "outputs": [
        {
          "output_type": "stream",
          "name": "stdout",
          "text": [
            "Digite um número inteiro positivo: 10\n",
            "O fatorial de 10 é 3628800.\n"
          ]
        }
      ]
    },
    {
      "cell_type": "markdown",
      "source": [
        "15. Verificação de Primalidade\n",
        "   - **Descrição:** Crie um programa que verifique se um número é primo. Use um loop `for` e condicionais para determinar se o número tem apenas dois divisores: 1 e ele mesmo."
      ],
      "metadata": {
        "id": "I7WOCsOyXFkW"
      }
    },
    {
      "cell_type": "code",
      "source": [
        "numero = int(input(\"Digite um número inteiro positivo: \"))\n",
        "\n",
        "divisores = 0\n",
        "\n",
        "for i in range(1, numero + 1):\n",
        "    if numero % i == 0:\n",
        "        divisores += 1\n",
        "\n",
        "if divisores == 2:\n",
        "    print(f\"{numero} é um número primo.\")\n",
        "else:\n",
        "    print(f\"{numero} não é um número primo.\")"
      ],
      "metadata": {
        "id": "gdWP1Mb3XLXY"
      },
      "execution_count": null,
      "outputs": []
    },
    {
      "cell_type": "markdown",
      "source": [
        "16. Sequência de Fibonacci\n",
        "   - **Descrição:** Gere a sequência de Fibonacci até um número máximo fornecido pelo usuário usando um loop `while`. A sequência começa com 0 e 1, e cada número subsequente é a soma dos dois anteriores."
      ],
      "metadata": {
        "id": "DF3pLHbDYqV_"
      }
    },
    {
      "cell_type": "code",
      "source": [
        "def fibonacci(n):\n",
        "    a, b = 0, 1\n",
        "    while b < n:\n",
        "        print(a, end=\" \")\n",
        "        a, b = b, a + b\n",
        "\n",
        "try:\n",
        "    max_number = int(input(\"Digite o número máximo para a sequência de Fibonacci: \"))\n",
        "    if max_number <= 0:\n",
        "        print(\"Por favor, insira um número positivo maior que zero.\")\n",
        "    else:\n",
        "        print(\"Sequência de Fibonacci até {}:\".format(max_number))\n",
        "        fibonacci(max_number)\n",
        "\n",
        "except ValueError:\n",
        "    print(\"Por favor, insira um número válido.\")"
      ],
      "metadata": {
        "colab": {
          "base_uri": "https://localhost:8080/"
        },
        "id": "YnOKv8SfY6Ss",
        "outputId": "52006d2f-1917-49a4-eb9b-da636fd852b3"
      },
      "execution_count": null,
      "outputs": [
        {
          "output_type": "stream",
          "name": "stdout",
          "text": [
            "Digite o número máximo para a sequência de Fibonacci: 10\n",
            "Sequência de Fibonacci até 10:\n",
            "0 1 1 2 3 5 "
          ]
        }
      ]
    },
    {
      "cell_type": "markdown",
      "source": [
        "17. Contar Caracteres em uma String\n",
        "   - **Descrição:** Conte quantas vezes um caractere específico aparece em uma string fornecida pelo usuário usando um loop `for`."
      ],
      "metadata": {
        "id": "cqvGAuWlk-Z9"
      }
    },
    {
      "cell_type": "code",
      "source": [
        "def contar_caractere(string, caractere):\n",
        "    contador = 0\n",
        "    for char in string:\n",
        "        if char == caractere:\n",
        "            contador += 1\n",
        "    return contador\n",
        "\n",
        "try:\n",
        "    minha_string = input(\"Digite uma string: \")\n",
        "    meu_caractere = input(\"Digite o caractere que deseja contar: \")\n",
        "\n",
        "    resultado = contar_caractere(minha_string, meu_caractere)\n",
        "    print(f\"O caractere '{meu_caractere}' aparece {resultado} vezes na string.\")\n",
        "\n",
        "except KeyboardInterrupt:\n",
        "    print(\"\\nOperação interrompida pelo usuário.\")"
      ],
      "metadata": {
        "colab": {
          "base_uri": "https://localhost:8080/"
        },
        "id": "Xun0qhjvi4s1",
        "outputId": "51e56bef-46e3-449f-d2ff-fd21a3fcb199"
      },
      "execution_count": null,
      "outputs": [
        {
          "output_type": "stream",
          "name": "stdout",
          "text": [
            "Digite uma string: meu nome é Dienyffer\n",
            "Digite o caractere que deseja contar: e\n",
            "O caractere 'e' aparece 4 vezes na string.\n"
          ]
        }
      ]
    },
    {
      "cell_type": "markdown",
      "source": [
        "18. Tabuada de um Número\n",
        "   - **Descrição:** Crie um programa que exiba a tabuada (de 1 a 10) de um número fornecido pelo usuário usando um loop `for`."
      ],
      "metadata": {
        "id": "8q75tVLVlrVh"
      }
    },
    {
      "cell_type": "code",
      "source": [
        "numero = int(input(\"Digite um número para ver sua tabuada: \"))\n",
        "\n",
        "for i in range(1, 11):\n",
        "    print(f\"{numero} x {i} = {numero * i}\",end=\"        \")\n",
        "    print()"
      ],
      "metadata": {
        "colab": {
          "base_uri": "https://localhost:8080/"
        },
        "id": "8mQ8WStAl06C",
        "outputId": "53e5a500-4a47-49b0-c0a4-2bfaaf183652"
      },
      "execution_count": null,
      "outputs": [
        {
          "output_type": "stream",
          "name": "stdout",
          "text": [
            "Digite um número para ver sua tabuada: 5\n",
            "5 x 1 = 5        \n",
            "5 x 2 = 10        \n",
            "5 x 3 = 15        \n",
            "5 x 4 = 20        \n",
            "5 x 5 = 25        \n",
            "5 x 6 = 30        \n",
            "5 x 7 = 35        \n",
            "5 x 8 = 40        \n",
            "5 x 9 = 45        \n",
            "5 x 10 = 50        \n"
          ]
        }
      ]
    },
    {
      "cell_type": "markdown",
      "source": [
        "19. Contador de Letras em Palavras\n",
        "   - **Descrição:** Dada uma lista de palavras, conte quantas letras `a` existem em todas as palavras usando um loop `for` e condicionais."
      ],
      "metadata": {
        "id": "q2i7nZr-m1ba"
      }
    },
    {
      "cell_type": "code",
      "source": [
        "palavras = [\"luva\", \"camiseta\", \"chapeu\", \"meia\", \"cachecol\"]\n",
        "\n",
        "contador_a = 0\n",
        "\n",
        "for palavra in palavras:\n",
        "    for letra in palavra:\n",
        "       if letra == 'a':\n",
        "            contador_a += 1\n",
        "\n",
        "print(f\"O número total de letras 'a' é: {contador_a}\")"
      ],
      "metadata": {
        "colab": {
          "base_uri": "https://localhost:8080/"
        },
        "id": "bvOiPhpvm4DL",
        "outputId": "99a3a7ca-96ac-4cc5-aa3e-f9ff3ed265d3"
      },
      "execution_count": null,
      "outputs": [
        {
          "output_type": "stream",
          "name": "stdout",
          "text": [
            "O número total de letras 'a' é: 6\n"
          ]
        }
      ]
    },
    {
      "cell_type": "markdown",
      "source": [
        "20. Conversão de Temperatura\n",
        "    - **Descrição:** Desenvolva um programa que converta temperaturas de Celsius para Fahrenheit e vice-versa. Use loops para permitir múltiplas conversões até que o usuário decida parar."
      ],
      "metadata": {
        "id": "15sno9tZnhfq"
      }
    },
    {
      "cell_type": "code",
      "source": [
        "def celsius_para_fahrenheit(celsius):\n",
        "    return (9 / 5) * celsius + 32\n",
        "\n",
        "def fahrenheit_para_celsius(fahrenheit):\n",
        "    return (fahrenheit - 32) * (5 / 9)\n",
        "\n",
        "def main():\n",
        "    while True:\n",
        "        print(\"Escolha uma opção:\")\n",
        "        print(\"1. Converter de Celsius para Fahrenheit\")\n",
        "        print(\"2. Converter de Fahrenheit para Celsius\")\n",
        "        print(\"3. Sair\")\n",
        "\n",
        "        escolha = input(\"Digite o número da opção desejada: \")\n",
        "\n",
        "        if escolha == '1':\n",
        "            celsius = float(input(\"Digite a temperatura em Celsius: \"))\n",
        "            fahrenheit = celsius_para_fahrenheit(celsius)\n",
        "            print(f\"{celsius}°C equivale a {fahrenheit:.2f}°F\")\n",
        "        elif escolha == '2':\n",
        "            fahrenheit = float(input(\"Digite a temperatura em Fahrenheit: \"))\n",
        "            celsius = fahrenheit_para_celsius(fahrenheit)\n",
        "            print(f\"{fahrenheit}°F equivale a {celsius:.2f}°C\")\n",
        "        elif escolha == '3':\n",
        "            print(\"Encerrando o programa.\")\n",
        "            break\n",
        "        else:\n",
        "            print(\"Opção inválida. Tente novamente.\")\n",
        "\n",
        "if __name__ == \"__main__\":\n",
        "    main()"
      ],
      "metadata": {
        "colab": {
          "base_uri": "https://localhost:8080/"
        },
        "id": "uoq7h4ywnkhx",
        "outputId": "8ea1a346-e556-4639-f317-af8eb3a28330"
      },
      "execution_count": null,
      "outputs": [
        {
          "output_type": "stream",
          "name": "stdout",
          "text": [
            "Escolha uma opção:\n",
            "1. Converter de Celsius para Fahrenheit\n",
            "2. Converter de Fahrenheit para Celsius\n",
            "3. Sair\n",
            "Digite o número da opção desejada: 1\n",
            "Digite a temperatura em Celsius: 24\n",
            "24.0°C equivale a 75.20°F\n",
            "Escolha uma opção:\n",
            "1. Converter de Celsius para Fahrenheit\n",
            "2. Converter de Fahrenheit para Celsius\n",
            "3. Sair\n",
            "Digite o número da opção desejada: 3\n",
            "Encerrando o programa.\n"
          ]
        }
      ]
    },
    {
      "cell_type": "markdown",
      "source": [
        "21. Média de Notas\n",
        "    - **Descrição:** Crie um programa que calcule a média de uma série de notas fornecidas pelo usuário. O programa deve parar quando o usuário digitar um valor negativo."
      ],
      "metadata": {
        "id": "g1MTAfn0z3rs"
      }
    },
    {
      "cell_type": "code",
      "source": [
        "def calcular_media():\n",
        "    notas = []\n",
        "    while True:\n",
        "        nota = float(input(\"Digite uma nota (ou um valor negativo para sair): \"))\n",
        "        if nota < 0:\n",
        "            break\n",
        "        notas.append(nota)\n",
        "\n",
        "    if notas:\n",
        "        media = sum(notas) / len(notas)\n",
        "        print(f\"A média das notas é: {media:.2f}\")\n",
        "    else:\n",
        "        print(\"Nenhuma nota válida foi fornecida.\")\n",
        "\n",
        "calcular_media()"
      ],
      "metadata": {
        "colab": {
          "base_uri": "https://localhost:8080/"
        },
        "id": "TRkXmIt_z87V",
        "outputId": "66d00b29-9952-4793-fbc4-b9e45fb3fee5"
      },
      "execution_count": null,
      "outputs": [
        {
          "output_type": "stream",
          "name": "stdout",
          "text": [
            "Digite uma nota (ou um valor negativo para sair): 2\n",
            "Digite uma nota (ou um valor negativo para sair): 3\n",
            "Digite uma nota (ou um valor negativo para sair): 2\n",
            "Digite uma nota (ou um valor negativo para sair): -2\n",
            "A média das notas é: 2.33\n"
          ]
        }
      ]
    },
    {
      "cell_type": "markdown",
      "source": [
        "22. Números Divisíveis por 3 e 5\n",
        "    - **Descrição:** Crie um programa que liste todos os números entre 1 e 100 que são divisíveis por 3 e por 5 usando um loop `for` e condicionais."
      ],
      "metadata": {
        "id": "iXTZo_N40VoE"
      }
    },
    {
      "cell_type": "code",
      "source": [
        "def main():\n",
        "    for numero in range(1, 101):\n",
        "        if numero % 3 == 0 and numero % 5 == 0:\n",
        "            print(numero)\n",
        "\n",
        "if __name__ == \"__main__\":\n",
        "    main()"
      ],
      "metadata": {
        "colab": {
          "base_uri": "https://localhost:8080/"
        },
        "id": "i9ZmL-b-0a1h",
        "outputId": "3c7abacf-aa20-4fb6-dd34-18f63e98e725"
      },
      "execution_count": null,
      "outputs": [
        {
          "output_type": "stream",
          "name": "stdout",
          "text": [
            "15\n",
            "30\n",
            "45\n",
            "60\n",
            "75\n",
            "90\n"
          ]
        }
      ]
    },
    {
      "cell_type": "markdown",
      "source": [
        "23. Inverter uma String\n",
        "    - **Descrição:** Crie um programa que inverta uma string fornecida pelo usuário sem usar funções embutidas, utilizando um loop `for`."
      ],
      "metadata": {
        "id": "ZDF1F6Bu0yW9"
      }
    },
    {
      "cell_type": "code",
      "source": [
        "def inverter_string(s):\n",
        "    nova_string = \"\"\n",
        "    for i in range(len(s) - 1, -1, -1):\n",
        "        nova_string += s[i]\n",
        "    return nova_string\n",
        "\n",
        "entrada = input(\"Digite uma string: \")\n",
        "resultado = inverter_string(entrada)\n",
        "print(\"String invertida:\", resultado)"
      ],
      "metadata": {
        "colab": {
          "base_uri": "https://localhost:8080/"
        },
        "id": "g2rnbAgO06Eg",
        "outputId": "c3d35c38-18b3-4755-be9a-29c2ec683cab"
      },
      "execution_count": null,
      "outputs": [
        {
          "output_type": "stream",
          "name": "stdout",
          "text": [
            "Digite uma string: string\n",
            "String invertida: gnirts\n"
          ]
        }
      ]
    },
    {
      "cell_type": "markdown",
      "source": [
        "24. Verificar Palíndromo\n",
        "    - **Descrição:** Desenvolva um programa que verifique se uma palavra é um palíndromo (ou seja, se pode ser lida da mesma forma de trás para frente). Use um loop `for` e condicionais."
      ],
      "metadata": {
        "id": "SBPJ9KV11WDt"
      }
    },
    {
      "cell_type": "code",
      "source": [
        "frase = str(input('Digite uma frase: ')).strip().upper()\n",
        "palavras = frase.split()\n",
        "junto= ''.join(palavras)\n",
        "inverso = junto[::-1]\n",
        "print(\"O inverso de {} é {}\".format(junto, inverso))\n",
        "if inverso == junto:\n",
        "  print(\"Temos um palindromo\")\n",
        "else:\n",
        "  print('A frase digitada não é um palindromo!')"
      ],
      "metadata": {
        "colab": {
          "base_uri": "https://localhost:8080/"
        },
        "id": "IDRDgnwm1aWY",
        "outputId": "a5561c04-7af5-4bed-fbf8-7af8983fd631"
      },
      "execution_count": null,
      "outputs": [
        {
          "output_type": "stream",
          "name": "stdout",
          "text": [
            "Digite uma frase: anotaram a data da maratona\n",
            "O inverso de ANOTARAMADATADAMARATONA é ANOTARAMADATADAMARATONA\n",
            "Temos um palindromo\n"
          ]
        }
      ]
    },
    {
      "cell_type": "markdown",
      "source": [
        "25. Múltiplos de um Número\n",
        "    - **Descrição:** Crie um programa que encontre todos os múltiplos de um número fornecido pelo usuário até um valor máximo também fornecido pelo usuário.\n"
      ],
      "metadata": {
        "id": "wCZmLkCD3PJX"
      }
    },
    {
      "cell_type": "code",
      "source": [
        "def encontrar_multiplos(numero, maximo):\n",
        "    multiplos = []\n",
        "    for i in range(1, maximo + 1):\n",
        "        if i % numero == 0:\n",
        "            multiplos.append(i)\n",
        "    return multiplos\n",
        "\n",
        "numero = int(input(\"Digite o número para encontrar seus múltiplos: \"))\n",
        "maximo = int(input(\"Digite o valor máximo: \"))\n",
        "\n",
        "multiplos = encontrar_multiplos(numero, maximo)\n",
        "print(f\"Os múltiplos de {numero} até {maximo} são: {multiplos}\")"
      ],
      "metadata": {
        "colab": {
          "base_uri": "https://localhost:8080/"
        },
        "id": "7CQXzLpn3aWX",
        "outputId": "012e902e-73d5-4906-8db1-063faeb67241"
      },
      "execution_count": null,
      "outputs": [
        {
          "output_type": "stream",
          "name": "stdout",
          "text": [
            "Digite o número para encontrar seus múltiplos: 10\n",
            "Digite o valor máximo: 20\n",
            "Os múltiplos de 10 até 20 são: [10, 20]\n"
          ]
        }
      ]
    },
    {
      "cell_type": "markdown",
      "source": [
        "26. Gerar Números Aleatórios\n",
        "    - **Descrição:** Gere e exiba uma lista de 10 números aleatórios entre 1 e 100. Use um loop `for` e a biblioteca `random` para isso."
      ],
      "metadata": {
        "id": "C1F2AoT4GngQ"
      }
    },
    {
      "cell_type": "code",
      "source": [
        "import random\n",
        "\n",
        "numeros_aleatorios = []\n",
        "\n",
        "for _ in range(10):\n",
        "    numero = random.randint(1, 100)\n",
        "    numeros_aleatorios.append(numero)\n",
        "\n",
        "print(numeros_aleatorios)"
      ],
      "metadata": {
        "colab": {
          "base_uri": "https://localhost:8080/"
        },
        "id": "U5MPLfykGrwB",
        "outputId": "36b88ecd-3bc6-45a3-b057-551590ed5a8b"
      },
      "execution_count": null,
      "outputs": [
        {
          "output_type": "stream",
          "name": "stdout",
          "text": [
            "[97, 13, 49, 80, 71, 42, 85, 35, 4, 100]\n"
          ]
        }
      ]
    },
    {
      "cell_type": "markdown",
      "source": [
        "27. Contar Palavras em uma Frase\n",
        "    - **Descrição:** Crie um programa que conte o número de palavras em uma frase fornecida pelo usuário. Use um loop `for` para iterar sobre as palavras da frase."
      ],
      "metadata": {
        "id": "ss85TqwyIYk2"
      }
    },
    {
      "cell_type": "code",
      "source": [
        "frase = input('Digite uma frase: ')\n",
        "\n",
        "palavras = frase.split()\n",
        "\n",
        "contador = 0\n",
        "\n",
        "for palavra in palavras:\n",
        "    contador += 1\n",
        "\n",
        "print(\"Número de palavras na frase:\", contador)"
      ],
      "metadata": {
        "colab": {
          "base_uri": "https://localhost:8080/"
        },
        "id": "N3bdqchnIZkF",
        "outputId": "3ddd344b-f215-4aea-a8e0-530a6ab635e4"
      },
      "execution_count": null,
      "outputs": [
        {
          "output_type": "stream",
          "name": "stdout",
          "text": [
            "Digite uma frase: hoje é terça-feira.\n",
            "Número de palavras na frase: 3\n"
          ]
        }
      ]
    },
    {
      "cell_type": "markdown",
      "source": [
        "28. Tabuada de 1 a 10\n",
        "    - **Descrição:** Crie um programa que exiba a tabuada de 1 a 10 usando dois loops `for`: um para o número base e outro para o multiplicador.\n",
        "    "
      ],
      "metadata": {
        "id": "BhIfoTNbJmnn"
      }
    },
    {
      "cell_type": "code",
      "source": [
        "for numero in range(1, 11):\n",
        "    for i in range(1, 11):\n",
        "        print(f\"{numero} x {i} = {numero * i}\")"
      ],
      "metadata": {
        "colab": {
          "base_uri": "https://localhost:8080/"
        },
        "id": "srSdda_7JsP0",
        "outputId": "e938ebd2-2f74-4ad7-e604-3a09426c3c7a",
        "collapsed": true
      },
      "execution_count": null,
      "outputs": [
        {
          "output_type": "stream",
          "name": "stdout",
          "text": [
            "1 x 1 = 1\n",
            "1 x 2 = 2\n",
            "1 x 3 = 3\n",
            "1 x 4 = 4\n",
            "1 x 5 = 5\n",
            "1 x 6 = 6\n",
            "1 x 7 = 7\n",
            "1 x 8 = 8\n",
            "1 x 9 = 9\n",
            "1 x 10 = 10\n",
            "2 x 1 = 2\n",
            "2 x 2 = 4\n",
            "2 x 3 = 6\n",
            "2 x 4 = 8\n",
            "2 x 5 = 10\n",
            "2 x 6 = 12\n",
            "2 x 7 = 14\n",
            "2 x 8 = 16\n",
            "2 x 9 = 18\n",
            "2 x 10 = 20\n",
            "3 x 1 = 3\n",
            "3 x 2 = 6\n",
            "3 x 3 = 9\n",
            "3 x 4 = 12\n",
            "3 x 5 = 15\n",
            "3 x 6 = 18\n",
            "3 x 7 = 21\n",
            "3 x 8 = 24\n",
            "3 x 9 = 27\n",
            "3 x 10 = 30\n",
            "4 x 1 = 4\n",
            "4 x 2 = 8\n",
            "4 x 3 = 12\n",
            "4 x 4 = 16\n",
            "4 x 5 = 20\n",
            "4 x 6 = 24\n",
            "4 x 7 = 28\n",
            "4 x 8 = 32\n",
            "4 x 9 = 36\n",
            "4 x 10 = 40\n",
            "5 x 1 = 5\n",
            "5 x 2 = 10\n",
            "5 x 3 = 15\n",
            "5 x 4 = 20\n",
            "5 x 5 = 25\n",
            "5 x 6 = 30\n",
            "5 x 7 = 35\n",
            "5 x 8 = 40\n",
            "5 x 9 = 45\n",
            "5 x 10 = 50\n",
            "6 x 1 = 6\n",
            "6 x 2 = 12\n",
            "6 x 3 = 18\n",
            "6 x 4 = 24\n",
            "6 x 5 = 30\n",
            "6 x 6 = 36\n",
            "6 x 7 = 42\n",
            "6 x 8 = 48\n",
            "6 x 9 = 54\n",
            "6 x 10 = 60\n",
            "7 x 1 = 7\n",
            "7 x 2 = 14\n",
            "7 x 3 = 21\n",
            "7 x 4 = 28\n",
            "7 x 5 = 35\n",
            "7 x 6 = 42\n",
            "7 x 7 = 49\n",
            "7 x 8 = 56\n",
            "7 x 9 = 63\n",
            "7 x 10 = 70\n",
            "8 x 1 = 8\n",
            "8 x 2 = 16\n",
            "8 x 3 = 24\n",
            "8 x 4 = 32\n",
            "8 x 5 = 40\n",
            "8 x 6 = 48\n",
            "8 x 7 = 56\n",
            "8 x 8 = 64\n",
            "8 x 9 = 72\n",
            "8 x 10 = 80\n",
            "9 x 1 = 9\n",
            "9 x 2 = 18\n",
            "9 x 3 = 27\n",
            "9 x 4 = 36\n",
            "9 x 5 = 45\n",
            "9 x 6 = 54\n",
            "9 x 7 = 63\n",
            "9 x 8 = 72\n",
            "9 x 9 = 81\n",
            "9 x 10 = 90\n",
            "10 x 1 = 10\n",
            "10 x 2 = 20\n",
            "10 x 3 = 30\n",
            "10 x 4 = 40\n",
            "10 x 5 = 50\n",
            "10 x 6 = 60\n",
            "10 x 7 = 70\n",
            "10 x 8 = 80\n",
            "10 x 9 = 90\n",
            "10 x 10 = 100\n"
          ]
        }
      ]
    },
    {
      "cell_type": "markdown",
      "source": [
        "29. Verificar Paridade de Números\n",
        "    - **Descrição:** Dado um número máximo fornecido pelo usuário, crie um programa que exiba todos os números de 1 até o máximo e informe se cada um é par ou ímpar."
      ],
      "metadata": {
        "id": "eh-VkWVFKL6C"
      }
    },
    {
      "cell_type": "code",
      "source": [
        "max_num = int(input(\"Digite o número máximo: \"))\n",
        "\n",
        "for num in range(1, max_num + 1):\n",
        "    if num % 2 == 0:\n",
        "        print(f\"{num} é par\")\n",
        "    else:\n",
        "        print(f\"{num} é ímpar\")"
      ],
      "metadata": {
        "colab": {
          "base_uri": "https://localhost:8080/"
        },
        "id": "peLWjc1TKOmI",
        "outputId": "bd482d74-b3a2-4c45-8644-3ce2aedc2eea"
      },
      "execution_count": null,
      "outputs": [
        {
          "output_type": "stream",
          "name": "stdout",
          "text": [
            "Digite o número máximo: 5\n",
            "1 é ímpar\n",
            "2 é par\n",
            "3 é ímpar\n",
            "4 é par\n",
            "5 é ímpar\n"
          ]
        }
      ]
    },
    {
      "cell_type": "markdown",
      "source": [
        "30. Somar Números em uma Lista\n",
        "    - **Descrição:** Crie uma lista de números e calcule a soma de todos os números positivos usando um loop `for`.\n"
      ],
      "metadata": {
        "id": "-5WC7xNjKrfz"
      }
    },
    {
      "cell_type": "code",
      "source": [
        "numeros = [10, -6, 1, -1, -7, -4, 9]\n",
        "\n",
        "soma_positivos = 0\n",
        "\n",
        "for numero in numeros:\n",
        "    if numero > 0:\n",
        "        soma_positivos += numero\n",
        "\n",
        "print(\"A soma dos números positivos é:\", soma_positivos)"
      ],
      "metadata": {
        "colab": {
          "base_uri": "https://localhost:8080/"
        },
        "id": "mnPjWFMfKt-k",
        "outputId": "c0578a1a-02a9-4e28-e556-3223c466edf3"
      },
      "execution_count": null,
      "outputs": [
        {
          "output_type": "stream",
          "name": "stdout",
          "text": [
            "A soma dos números positivos é: 20\n"
          ]
        }
      ]
    }
  ]
}