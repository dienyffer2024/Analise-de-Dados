{
  "nbformat": 4,
  "nbformat_minor": 0,
  "metadata": {
    "colab": {
      "provenance": [],
      "authorship_tag": "ABX9TyPEzpJ4fkCetYBRCs0zBp+X",
      "include_colab_link": true
    },
    "kernelspec": {
      "name": "python3",
      "display_name": "Python 3"
    },
    "language_info": {
      "name": "python"
    }
  },
  "cells": [
    {
      "cell_type": "markdown",
      "metadata": {
        "id": "view-in-github",
        "colab_type": "text"
      },
      "source": [
        "<a href=\"https://colab.research.google.com/github/dienyffer2024/Analise-de-Dados/blob/C%C3%B3digos-em-Python/PySpark_RH.ipynb\" target=\"_parent\"><img src=\"https://colab.research.google.com/assets/colab-badge.svg\" alt=\"Open In Colab\"/></a>"
      ]
    },
    {
      "cell_type": "code",
      "execution_count": null,
      "metadata": {
        "id": "xzr0C09RLTOO"
      },
      "outputs": [],
      "source": [
        "import pandas as pd\n"
      ]
    },
    {
      "cell_type": "code",
      "source": [
        "!apt-get install openjdk-8-jdk-headless -qq > /dev/null\n",
        "!wget -q http://archive.apache.org/dist/spark/spark-3.1.1/spark-3.1.1-bin-hadoop3.2.tgz\n",
        "!tar xf spark-3.1.1-bin-hadoop3.2.tgz\n",
        "!pip install -q findspark"
      ],
      "metadata": {
        "id": "PWNEtpOmL4No",
        "collapsed": true
      },
      "execution_count": null,
      "outputs": []
    },
    {
      "cell_type": "code",
      "source": [
        "import os\n",
        "os.environ[\"JAVA_HOME\"] = \"/usr/lib/jvm/java-8-openjdk-amd64\"\n",
        "os.environ[\"SPARK_HOME\"] = \"/content/spark-3.1.1-bin-hadoop3.2\"\n",
        "import findspark\n",
        "findspark.init()"
      ],
      "metadata": {
        "id": "B7NjCMxoONt5"
      },
      "execution_count": null,
      "outputs": []
    },
    {
      "cell_type": "code",
      "source": [
        "from pyspark.sql import SparkSession\n",
        "spark = SparkSession.builder.appName(\"Introducao\").getOrCreate()"
      ],
      "metadata": {
        "id": "UbmOSqDWOP91"
      },
      "execution_count": null,
      "outputs": []
    },
    {
      "cell_type": "code",
      "source": [
        "dfps = spark.read.csv(\"/content/Base de dados - Dados sobre desgaste de funcionarios.csv\", header=True, inferSchema=True)\n"
      ],
      "metadata": {
        "id": "WsuVOZzXOXSp"
      },
      "execution_count": null,
      "outputs": []
    },
    {
      "cell_type": "code",
      "source": [
        "from pyspark.sql.functions import *"
      ],
      "metadata": {
        "id": "r1jjyOJzOs5Y"
      },
      "execution_count": null,
      "outputs": []
    },
    {
      "cell_type": "code",
      "source": [
        "dfps.show(10) # 1 - Mostrando 10 primeiras linhas da planilha"
      ],
      "metadata": {
        "colab": {
          "base_uri": "https://localhost:8080/"
        },
        "id": "VjtTWiw_RReI",
        "outputId": "d363aba6-65cc-4e96-aae4-bc27a805895a"
      },
      "execution_count": null,
      "outputs": [
        {
          "output_type": "stream",
          "name": "stdout",
          "text": [
            "+-----+--------+--------------------+-----------------+--------------------+-----------------+------------+----------------+------------------------------------------+--------------+----------------------------------------------+---------+----------------+------------------------------------+-----------------+--------------------+-------------------------+------------+------------+--------------+---------------------------------+--------------+--------------+--------------------------------+--------------------+------------------------------------+--------------------------+--------------------------------------+-------------------------+---------------------------------------------+------------------------+------------------------------------+--------------------------------+----------------------------+-----------------------------------+\n",
            "|Idade|Demissão|  Viagem de negócios|Diárias recebidas|        Departamento|Distância de Casa|Escolaridade|Área de Formação|Número de contratos de trabalho na empresa|ID Funcionário|Nível de Satisfação com o ambiente de trabalho|   Gênero|Salário por hora|Nível de envolvimento com o trabalho|Nível hierárquico|               Cargo|Satisfação com o trabalho|Estado civil|Renda mensal|Salário Mensal|qtde de empresas que já trabalhou|Maior de idade|Faz hora extra|percentual de aumento de salário|score de performance|Satisfação nas relações Não trabalho|Jornada padrão de trabalho|opção de remaunração variável em ações|Total de anos trabalhados|Qtde de treinamentos realizados no último ano|Equilíbrio vida trabalho|Total de anos trabalhados na empresa|Anos trabalhados na função atual|Anos desde a última promoção|Anos trabalhando com o atual gestor|\n",
            "+-----+--------+--------------------+-----------------+--------------------+-----------------+------------+----------------+------------------------------------------+--------------+----------------------------------------------+---------+----------------+------------------------------------+-----------------+--------------------+-------------------------+------------+------------+--------------+---------------------------------+--------------+--------------+--------------------------------+--------------------+------------------------------------+--------------------------+--------------------------------------+-------------------------+---------------------------------------------+------------------------+------------------------------------+--------------------------------+----------------------------+-----------------------------------+\n",
            "|   41|     Sim|     Viaja raramente|             1102|              Vendas|                1|           2|Ciências Humanas|                                         1|             1|                                             2| Feminino|              94|                                   3|                2| Executivo de vendas|                        4|    Solteiro|        5993|         19479|                                8|           Sim|           Sim|                              11|                   3|                                   1|                        80|                                     0|                        8|                                            0|                       1|                                   6|                               4|                           0|                                  5|\n",
            "|   49|     Não|Viaja frequentemente|              279|Pesquisa e Desenv...|                8|           1|Ciências Humanas|                                         1|             2|                                             3|Masculino|              61|                                   2|                2|Pesquisador cient...|                        2|      Casado|        5130|         24907|                                1|           Sim|           Não|                              23|                   4|                                   4|                        80|                                     1|                       10|                                            3|                       3|                                  10|                               7|                           1|                                  7|\n",
            "|   37|     Sim|     Viaja raramente|             1373|Pesquisa e Desenv...|                2|           2|          Outras|                                         1|             4|                                             4|Masculino|              92|                                   2|                1|Técnico de Labora...|                        3|    Solteiro|        2090|          2396|                                6|           Sim|           Sim|                              15|                   3|                                   2|                        80|                                     0|                        7|                                            3|                       3|                                   0|                               0|                           0|                                  0|\n",
            "|   33|     Não|Viaja frequentemente|             1392|Pesquisa e Desenv...|                3|           4|Ciências Humanas|                                         1|             5|                                             4| Feminino|              56|                                   3|                1|Pesquisador cient...|                        3|      Casado|        2909|         23159|                                1|           Sim|           Sim|                              11|                   3|                                   3|                        80|                                     0|                        8|                                            3|                       3|                                   8|                               7|                           3|                                  0|\n",
            "|   27|     Não|     Viaja raramente|              591|Pesquisa e Desenv...|                2|           1|Ciências Médicas|                                         1|             7|                                             1|Masculino|              40|                                   3|                1|Técnico de Labora...|                        2|      Casado|        3468|         16632|                                9|           Sim|           Não|                              12|                   3|                                   4|                        80|                                     1|                        6|                                            3|                       3|                                   2|                               2|                           2|                                  2|\n",
            "|   32|     Não|Viaja frequentemente|             1005|Pesquisa e Desenv...|                2|           2|Ciências Humanas|                                         1|             8|                                             4|Masculino|              79|                                   3|                1|Técnico de Labora...|                        4|    Solteiro|        3068|         11864|                                0|           Sim|           Não|                              13|                   3|                                   3|                        80|                                     0|                        8|                                            2|                       2|                                   7|                               7|                           3|                                  6|\n",
            "|   59|     Não|     Viaja raramente|             1324|Pesquisa e Desenv...|                3|           3|Ciências Médicas|                                         1|            10|                                             3| Feminino|              81|                                   4|                1|Técnico de Labora...|                        1|      Casado|        2670|          9964|                                4|           Sim|           Sim|                              20|                   4|                                   1|                        80|                                     3|                       12|                                            3|                       2|                                   1|                               0|                           0|                                  0|\n",
            "|   30|     Não|     Viaja raramente|             1358|Pesquisa e Desenv...|               24|           1|Ciências Humanas|                                         1|            11|                                             4|Masculino|              67|                                   3|                1|Técnico de Labora...|                        3|  Divorciado|        2693|         13335|                                1|           Sim|           Não|                              22|                   4|                                   2|                        80|                                     1|                        1|                                            2|                       3|                                   1|                               0|                           0|                                  0|\n",
            "|   38|     Não|Viaja frequentemente|              216|Pesquisa e Desenv...|               23|           3|Ciências Humanas|                                         1|            12|                                             4|Masculino|              44|                                   2|                3|Diretor de manufa...|                        3|    Solteiro|        9526|          8787|                                0|           Sim|           Não|                              21|                   4|                                   2|                        80|                                     0|                       10|                                            2|                       3|                                   9|                               7|                           1|                                  8|\n",
            "|   36|     Não|     Viaja raramente|             1299|Pesquisa e Desenv...|               27|           3|Ciências Médicas|                                         1|            13|                                             3|Masculino|              94|                                   3|                2|Reprentante de saúde|                        3|      Casado|        5237|         16577|                                6|           Sim|           Não|                              13|                   3|                                   2|                        80|                                     2|                       17|                                            3|                       2|                                   7|                               7|                           7|                                  7|\n",
            "+-----+--------+--------------------+-----------------+--------------------+-----------------+------------+----------------+------------------------------------------+--------------+----------------------------------------------+---------+----------------+------------------------------------+-----------------+--------------------+-------------------------+------------+------------+--------------+---------------------------------+--------------+--------------+--------------------------------+--------------------+------------------------------------+--------------------------+--------------------------------------+-------------------------+---------------------------------------------+------------------------+------------------------------------+--------------------------------+----------------------------+-----------------------------------+\n",
            "only showing top 10 rows\n",
            "\n"
          ]
        }
      ]
    },
    {
      "cell_type": "code",
      "source": [
        "dfps.sample(False, 0.99999).show(3) # 2 - Sorteando três linhas aleatórias"
      ],
      "metadata": {
        "colab": {
          "base_uri": "https://localhost:8080/"
        },
        "id": "2zoxd0pnXX_9",
        "outputId": "e27491e3-8188-43ae-9071-4fb671dbf880"
      },
      "execution_count": null,
      "outputs": [
        {
          "output_type": "stream",
          "name": "stdout",
          "text": [
            "+-----+--------+--------------------+-----------------+--------------------+-----------------+------------+----------------+------------------------------------------+--------------+----------------------------------------------+---------+----------------+------------------------------------+-----------------+--------------------+-------------------------+------------+------------+--------------+---------------------------------+--------------+--------------+--------------------------------+--------------------+------------------------------------+--------------------------+--------------------------------------+-------------------------+---------------------------------------------+------------------------+------------------------------------+--------------------------------+----------------------------+-----------------------------------+\n",
            "|Idade|Demissão|  Viagem de negócios|Diárias recebidas|        Departamento|Distância de Casa|Escolaridade|Área de Formação|Número de contratos de trabalho na empresa|ID Funcionário|Nível de Satisfação com o ambiente de trabalho|   Gênero|Salário por hora|Nível de envolvimento com o trabalho|Nível hierárquico|               Cargo|Satisfação com o trabalho|Estado civil|Renda mensal|Salário Mensal|qtde de empresas que já trabalhou|Maior de idade|Faz hora extra|percentual de aumento de salário|score de performance|Satisfação nas relações Não trabalho|Jornada padrão de trabalho|opção de remaunração variável em ações|Total de anos trabalhados|Qtde de treinamentos realizados no último ano|Equilíbrio vida trabalho|Total de anos trabalhados na empresa|Anos trabalhados na função atual|Anos desde a última promoção|Anos trabalhando com o atual gestor|\n",
            "+-----+--------+--------------------+-----------------+--------------------+-----------------+------------+----------------+------------------------------------------+--------------+----------------------------------------------+---------+----------------+------------------------------------+-----------------+--------------------+-------------------------+------------+------------+--------------+---------------------------------+--------------+--------------+--------------------------------+--------------------+------------------------------------+--------------------------+--------------------------------------+-------------------------+---------------------------------------------+------------------------+------------------------------------+--------------------------------+----------------------------+-----------------------------------+\n",
            "|   41|     Sim|     Viaja raramente|             1102|              Vendas|                1|           2|Ciências Humanas|                                         1|             1|                                             2| Feminino|              94|                                   3|                2| Executivo de vendas|                        4|    Solteiro|        5993|         19479|                                8|           Sim|           Sim|                              11|                   3|                                   1|                        80|                                     0|                        8|                                            0|                       1|                                   6|                               4|                           0|                                  5|\n",
            "|   49|     Não|Viaja frequentemente|              279|Pesquisa e Desenv...|                8|           1|Ciências Humanas|                                         1|             2|                                             3|Masculino|              61|                                   2|                2|Pesquisador cient...|                        2|      Casado|        5130|         24907|                                1|           Sim|           Não|                              23|                   4|                                   4|                        80|                                     1|                       10|                                            3|                       3|                                  10|                               7|                           1|                                  7|\n",
            "|   37|     Sim|     Viaja raramente|             1373|Pesquisa e Desenv...|                2|           2|          Outras|                                         1|             4|                                             4|Masculino|              92|                                   2|                1|Técnico de Labora...|                        3|    Solteiro|        2090|          2396|                                6|           Sim|           Sim|                              15|                   3|                                   2|                        80|                                     0|                        7|                                            3|                       3|                                   0|                               0|                           0|                                  0|\n",
            "+-----+--------+--------------------+-----------------+--------------------+-----------------+------------+----------------+------------------------------------------+--------------+----------------------------------------------+---------+----------------+------------------------------------+-----------------+--------------------+-------------------------+------------+------------+--------------+---------------------------------+--------------+--------------+--------------------------------+--------------------+------------------------------------+--------------------------+--------------------------------------+-------------------------+---------------------------------------------+------------------------+------------------------------------+--------------------------------+----------------------------+-----------------------------------+\n",
            "only showing top 3 rows\n",
            "\n"
          ]
        }
      ]
    },
    {
      "cell_type": "code",
      "source": [
        "dfps.rdd.map(lambda row: row).zipWithIndex().toDF().show(8) # 3 - Exibindo os índices das linhas, limitando a oito"
      ],
      "metadata": {
        "colab": {
          "base_uri": "https://localhost:8080/"
        },
        "id": "l4bE4iHSXsUp",
        "outputId": "9a6f1a33-6b41-40a5-d3e3-eee3f2af7a62"
      },
      "execution_count": null,
      "outputs": [
        {
          "output_type": "stream",
          "name": "stdout",
          "text": [
            "+--------------------+---+\n",
            "|                  _1| _2|\n",
            "+--------------------+---+\n",
            "|{41, Sim, Viaja r...|  0|\n",
            "|{49, Não, Viaja f...|  1|\n",
            "|{37, Sim, Viaja r...|  2|\n",
            "|{33, Não, Viaja f...|  3|\n",
            "|{27, Não, Viaja r...|  4|\n",
            "|{32, Não, Viaja f...|  5|\n",
            "|{59, Não, Viaja r...|  6|\n",
            "|{30, Não, Viaja r...|  7|\n",
            "+--------------------+---+\n",
            "only showing top 8 rows\n",
            "\n"
          ]
        }
      ]
    },
    {
      "cell_type": "code",
      "source": [
        "dfps.describe().show() # 4 - Exibindo estatísticas"
      ],
      "metadata": {
        "colab": {
          "base_uri": "https://localhost:8080/"
        },
        "id": "w7RSRQYJabiT",
        "outputId": "6ffc7e47-5aa6-4814-ae4f-03dbbc1c356b"
      },
      "execution_count": null,
      "outputs": [
        {
          "output_type": "stream",
          "name": "stdout",
          "text": [
            "+-------+------------------+--------+------------------+------------------+--------------------+-----------------+------------------+-----------------+------------------------------------------+-----------------+----------------------------------------------+---------+------------------+------------------------------------+------------------+--------------------+-------------------------+------------+-----------------+------------------+---------------------------------+--------------+--------------+--------------------------------+--------------------+------------------------------------+--------------------------+--------------------------------------+-------------------------+---------------------------------------------+------------------------+------------------------------------+--------------------------------+----------------------------+-----------------------------------+\n",
            "|summary|             Idade|Demissão|Viagem de negócios| Diárias recebidas|        Departamento|Distância de Casa|      Escolaridade| Área de Formação|Número de contratos de trabalho na empresa|   ID Funcionário|Nível de Satisfação com o ambiente de trabalho|   Gênero|  Salário por hora|Nível de envolvimento com o trabalho| Nível hierárquico|               Cargo|Satisfação com o trabalho|Estado civil|     Renda mensal|    Salário Mensal|qtde de empresas que já trabalhou|Maior de idade|Faz hora extra|percentual de aumento de salário|score de performance|Satisfação nas relações Não trabalho|Jornada padrão de trabalho|opção de remaunração variável em ações|Total de anos trabalhados|Qtde de treinamentos realizados no último ano|Equilíbrio vida trabalho|Total de anos trabalhados na empresa|Anos trabalhados na função atual|Anos desde a última promoção|Anos trabalhando com o atual gestor|\n",
            "+-------+------------------+--------+------------------+------------------+--------------------+-----------------+------------------+-----------------+------------------------------------------+-----------------+----------------------------------------------+---------+------------------+------------------------------------+------------------+--------------------+-------------------------+------------+-----------------+------------------+---------------------------------+--------------+--------------+--------------------------------+--------------------+------------------------------------+--------------------------+--------------------------------------+-------------------------+---------------------------------------------+------------------------+------------------------------------+--------------------------------+----------------------------+-----------------------------------+\n",
            "|  count|              1470|    1470|              1470|              1470|                1470|             1470|              1470|             1470|                                      1470|             1470|                                          1470|     1470|              1470|                                1470|              1470|                1470|                     1470|        1470|             1470|              1470|                             1470|          1470|          1470|                            1470|                1470|                                1470|                      1470|                                  1470|                     1470|                                         1470|                    1470|                                1470|                            1470|                        1470|                               1470|\n",
            "|   mean|36.923809523809524|    null|              null| 802.4857142857143|                null| 9.19251700680272| 2.912925170068027|             null|                                       1.0|1024.865306122449|                             2.721768707482993|     null| 65.92040816326531|                  2.7299319727891156|2.0639455782312925|                null|       2.7285714285714286|        null|6502.931292517007|14313.103401360544|               2.6931972789115646|          null|          null|              15.209523809523809|  3.1537414965986397|                  2.7122448979591836|                      80.0|                    0.7938775510204081|       11.279591836734694|                           2.7993197278911564|      2.7612244897959184|                  7.0081632653061225|               4.229251700680272|          2.1877551020408164|                   4.12312925170068|\n",
            "| stddev| 9.135373489136729|    null|              null|403.50909994352804|                null| 8.10686443566608|1.0241649445978718|             null|                                       0.0|602.0243348474752|                            1.0930822146350003|     null|20.337480912190458|                  0.7115611429632297|1.1069398989351202|                null|       1.1028461230547213|        null|4707.956783097992| 7117.786044059972|               2.4980090060707463|          null|          null|              3.6599377165396385| 0.36082352460434397|                  1.0812088864403517|                       0.0|                    0.8520766679308381|        7.780781675514995|                           1.2892706207958466|      0.7064758297141507|                   6.126525152403571|               3.623137034670627|          3.2224302791379693|                 3.5681361205404363|\n",
            "|    min|                18|     Não|         Não Viaja|               102|Pesquisa e Desenv...|                1|                 1| Ciências Humanas|                                         1|                1|                                             1| Feminino|                30|                                   1|                 1|Diretor de manufa...|                        1|      Casado|             1009|              2094|                                0|           Sim|           Não|                              11|                   3|                                   1|                        80|                                     0|                        0|                                            0|                       1|                                   0|                               0|                           0|                                  0|\n",
            "|    max|                60|     Sim|   Viaja raramente|              1499|              Vendas|               29|                 5|Recursos HumaNãos|                                         1|             2068|                                             4|Masculino|               100|                                   4|                 5|Técnico de Labora...|                        4|    Solteiro|            19999|             26999|                                9|           Sim|           Sim|                              25|                   4|                                   4|                        80|                                     3|                       40|                                            6|                       4|                                  40|                              18|                          15|                                 17|\n",
            "+-------+------------------+--------+------------------+------------------+--------------------+-----------------+------------------+-----------------+------------------------------------------+-----------------+----------------------------------------------+---------+------------------+------------------------------------+------------------+--------------------+-------------------------+------------+-----------------+------------------+---------------------------------+--------------+--------------+--------------------------------+--------------------+------------------------------------+--------------------------+--------------------------------------+-------------------------+---------------------------------------------+------------------------+------------------------------------+--------------------------------+----------------------------+-----------------------------------+\n",
            "\n"
          ]
        }
      ]
    },
    {
      "cell_type": "code",
      "source": [
        "dfps.orderBy(col('Idade').desc()).show(10) # 5 - Ordenando por idade, trazendo 10 linhas"
      ],
      "metadata": {
        "colab": {
          "base_uri": "https://localhost:8080/"
        },
        "id": "y3t6nMcta8Ar",
        "outputId": "c5c7a0fa-3097-4bd8-acfe-c75c87483175"
      },
      "execution_count": null,
      "outputs": [
        {
          "output_type": "stream",
          "name": "stdout",
          "text": [
            "+-----+--------+--------------------+-----------------+--------------------+-----------------+------------+----------------+------------------------------------------+--------------+----------------------------------------------+---------+----------------+------------------------------------+-----------------+--------------------+-------------------------+------------+------------+--------------+---------------------------------+--------------+--------------+--------------------------------+--------------------+------------------------------------+--------------------------+--------------------------------------+-------------------------+---------------------------------------------+------------------------+------------------------------------+--------------------------------+----------------------------+-----------------------------------+\n",
            "|Idade|Demissão|  Viagem de negócios|Diárias recebidas|        Departamento|Distância de Casa|Escolaridade|Área de Formação|Número de contratos de trabalho na empresa|ID Funcionário|Nível de Satisfação com o ambiente de trabalho|   Gênero|Salário por hora|Nível de envolvimento com o trabalho|Nível hierárquico|               Cargo|Satisfação com o trabalho|Estado civil|Renda mensal|Salário Mensal|qtde de empresas que já trabalhou|Maior de idade|Faz hora extra|percentual de aumento de salário|score de performance|Satisfação nas relações Não trabalho|Jornada padrão de trabalho|opção de remaunração variável em ações|Total de anos trabalhados|Qtde de treinamentos realizados no último ano|Equilíbrio vida trabalho|Total de anos trabalhados na empresa|Anos trabalhados na função atual|Anos desde a última promoção|Anos trabalhando com o atual gestor|\n",
            "+-----+--------+--------------------+-----------------+--------------------+-----------------+------------+----------------+------------------------------------------+--------------+----------------------------------------------+---------+----------------+------------------------------------+-----------------+--------------------+-------------------------+------------+------------+--------------+---------------------------------+--------------+--------------+--------------------------------+--------------------+------------------------------------+--------------------------+--------------------------------------+-------------------------+---------------------------------------------+------------------------+------------------------------------+--------------------------------+----------------------------+-----------------------------------+\n",
            "|   60|     Não|     Viaja raramente|             1179|              Vendas|               16|           4|       Marketing|                                         1|           732|                                             1|Masculino|              84|                                   3|                2| Executivo de vendas|                        1|    Solteiro|        5405|         11924|                                8|           Sim|           Não|                              14|                   3|                                   4|                        80|                                     0|                       10|                                            1|                       3|                                   2|                               2|                           2|                                  2|\n",
            "|   60|     Não|     Viaja raramente|              422|Pesquisa e Desenv...|                7|           3|Ciências Humanas|                                         1|           549|                                             1| Feminino|              41|                                   3|                5|             Gerente|                        1|      Casado|       19566|          3854|                                5|           Sim|           Não|                              11|                   3|                                   4|                        80|                                     0|                       33|                                            5|                       1|                                  29|                               8|                          11|                                 10|\n",
            "|   60|     Não|     Viaja raramente|              696|              Vendas|                7|           4|       Marketing|                                         1|          1233|                                             2|Masculino|              52|                                   4|                2| Executivo de vendas|                        4|  Divorciado|        5220|         10893|                                0|           Sim|           Sim|                              18|                   3|                                   2|                        80|                                     1|                       12|                                            3|                       3|                                  11|                               7|                           1|                                  9|\n",
            "|   60|     Não|Viaja frequentemente|             1499|              Vendas|               28|           3|       Marketing|                                         1|           573|                                             3| Feminino|              80|                                   2|                3| Executivo de vendas|                        1|      Casado|       10266|          2845|                                4|           Sim|           Não|                              19|                   3|                                   4|                        80|                                     0|                       22|                                            5|                       4|                                  18|                              13|                          13|                                 11|\n",
            "|   60|     Não|     Viaja raramente|              370|Pesquisa e Desenv...|                1|           4|Ciências Médicas|                                         1|          1697|                                             3|Masculino|              92|                                   1|                3|Reprentante de saúde|                        4|  Divorciado|       10883|         20467|                                3|           Sim|           Não|                              20|                   4|                                   3|                        80|                                     1|                       19|                                            2|                       4|                                   1|                               0|                           0|                                  0|\n",
            "|   59|     Não|Viaja frequentemente|             1225|              Vendas|                1|           1|Ciências Humanas|                                         1|            91|                                             1| Feminino|              57|                                   2|                2| Executivo de vendas|                        3|    Solteiro|        5473|         24668|                                7|           Sim|           Não|                              11|                   3|                                   4|                        80|                                     0|                       20|                                            2|                       2|                                   4|                               3|                           1|                                  3|\n",
            "|   59|     Não|     Viaja raramente|              818|   Recursos HumaNãos|                6|           2|Ciências Médicas|                                         1|           321|                                             2|Masculino|              52|                                   3|                1|   Recursos HumaNãos|                        3|      Casado|        2267|         25657|                                8|           Sim|           Não|                              17|                   3|                                   4|                        80|                                     0|                        7|                                            2|                       2|                                   2|                               2|                           2|                                  2|\n",
            "|   59|     Não|     Viaja raramente|              142|Pesquisa e Desenv...|                3|           3|Ciências Humanas|                                         1|           309|                                             3|Masculino|              70|                                   2|                1|Pesquisador cient...|                        4|      Casado|        2177|          8456|                                3|           Sim|           Não|                              17|                   3|                                   1|                        80|                                     1|                        7|                                            6|                       3|                                   1|                               0|                           0|                                  0|\n",
            "|   59|     Não|     Viaja raramente|              715|Pesquisa e Desenv...|                2|           3|Ciências Humanas|                                         1|          1032|                                             3| Feminino|              69|                                   2|                4|Diretor de manufa...|                        4|    Solteiro|       13726|         21829|                                3|           Sim|           Sim|                              13|                   3|                                   1|                        80|                                     0|                       30|                                            4|                       3|                                   5|                               3|                           4|                                  3|\n",
            "|   59|     Não|     Viaja raramente|             1324|Pesquisa e Desenv...|                3|           3|Ciências Médicas|                                         1|            10|                                             3| Feminino|              81|                                   4|                1|Técnico de Labora...|                        1|      Casado|        2670|          9964|                                4|           Sim|           Sim|                              20|                   4|                                   1|                        80|                                     3|                       12|                                            3|                       2|                                   1|                               0|                           0|                                  0|\n",
            "+-----+--------+--------------------+-----------------+--------------------+-----------------+------------+----------------+------------------------------------------+--------------+----------------------------------------------+---------+----------------+------------------------------------+-----------------+--------------------+-------------------------+------------+------------+--------------+---------------------------------+--------------+--------------+--------------------------------+--------------------+------------------------------------+--------------------------+--------------------------------------+-------------------------+---------------------------------------------+------------------------+------------------------------------+--------------------------------+----------------------------+-----------------------------------+\n",
            "only showing top 10 rows\n",
            "\n"
          ]
        }
      ]
    },
    {
      "cell_type": "code",
      "source": [
        "dfps.where(col(\"Departamento\") == \"Pesquisa e Desenvolvimento\").show(15) # 6 - Filtrando por departamento, pelo rótulo, somente quinze linhas"
      ],
      "metadata": {
        "colab": {
          "base_uri": "https://localhost:8080/"
        },
        "id": "jalFeih2b3o_",
        "outputId": "52645795-e52b-434c-9edb-45c425f224ab"
      },
      "execution_count": null,
      "outputs": [
        {
          "output_type": "stream",
          "name": "stdout",
          "text": [
            "+-----+--------+--------------------+-----------------+--------------------+-----------------+------------+----------------+------------------------------------------+--------------+----------------------------------------------+---------+----------------+------------------------------------+-----------------+--------------------+-------------------------+------------+------------+--------------+---------------------------------+--------------+--------------+--------------------------------+--------------------+------------------------------------+--------------------------+--------------------------------------+-------------------------+---------------------------------------------+------------------------+------------------------------------+--------------------------------+----------------------------+-----------------------------------+\n",
            "|Idade|Demissão|  Viagem de negócios|Diárias recebidas|        Departamento|Distância de Casa|Escolaridade|Área de Formação|Número de contratos de trabalho na empresa|ID Funcionário|Nível de Satisfação com o ambiente de trabalho|   Gênero|Salário por hora|Nível de envolvimento com o trabalho|Nível hierárquico|               Cargo|Satisfação com o trabalho|Estado civil|Renda mensal|Salário Mensal|qtde de empresas que já trabalhou|Maior de idade|Faz hora extra|percentual de aumento de salário|score de performance|Satisfação nas relações Não trabalho|Jornada padrão de trabalho|opção de remaunração variável em ações|Total de anos trabalhados|Qtde de treinamentos realizados no último ano|Equilíbrio vida trabalho|Total de anos trabalhados na empresa|Anos trabalhados na função atual|Anos desde a última promoção|Anos trabalhando com o atual gestor|\n",
            "+-----+--------+--------------------+-----------------+--------------------+-----------------+------------+----------------+------------------------------------------+--------------+----------------------------------------------+---------+----------------+------------------------------------+-----------------+--------------------+-------------------------+------------+------------+--------------+---------------------------------+--------------+--------------+--------------------------------+--------------------+------------------------------------+--------------------------+--------------------------------------+-------------------------+---------------------------------------------+------------------------+------------------------------------+--------------------------------+----------------------------+-----------------------------------+\n",
            "|   49|     Não|Viaja frequentemente|              279|Pesquisa e Desenv...|                8|           1|Ciências Humanas|                                         1|             2|                                             3|Masculino|              61|                                   2|                2|Pesquisador cient...|                        2|      Casado|        5130|         24907|                                1|           Sim|           Não|                              23|                   4|                                   4|                        80|                                     1|                       10|                                            3|                       3|                                  10|                               7|                           1|                                  7|\n",
            "|   37|     Sim|     Viaja raramente|             1373|Pesquisa e Desenv...|                2|           2|          Outras|                                         1|             4|                                             4|Masculino|              92|                                   2|                1|Técnico de Labora...|                        3|    Solteiro|        2090|          2396|                                6|           Sim|           Sim|                              15|                   3|                                   2|                        80|                                     0|                        7|                                            3|                       3|                                   0|                               0|                           0|                                  0|\n",
            "|   33|     Não|Viaja frequentemente|             1392|Pesquisa e Desenv...|                3|           4|Ciências Humanas|                                         1|             5|                                             4| Feminino|              56|                                   3|                1|Pesquisador cient...|                        3|      Casado|        2909|         23159|                                1|           Sim|           Sim|                              11|                   3|                                   3|                        80|                                     0|                        8|                                            3|                       3|                                   8|                               7|                           3|                                  0|\n",
            "|   27|     Não|     Viaja raramente|              591|Pesquisa e Desenv...|                2|           1|Ciências Médicas|                                         1|             7|                                             1|Masculino|              40|                                   3|                1|Técnico de Labora...|                        2|      Casado|        3468|         16632|                                9|           Sim|           Não|                              12|                   3|                                   4|                        80|                                     1|                        6|                                            3|                       3|                                   2|                               2|                           2|                                  2|\n",
            "|   32|     Não|Viaja frequentemente|             1005|Pesquisa e Desenv...|                2|           2|Ciências Humanas|                                         1|             8|                                             4|Masculino|              79|                                   3|                1|Técnico de Labora...|                        4|    Solteiro|        3068|         11864|                                0|           Sim|           Não|                              13|                   3|                                   3|                        80|                                     0|                        8|                                            2|                       2|                                   7|                               7|                           3|                                  6|\n",
            "|   59|     Não|     Viaja raramente|             1324|Pesquisa e Desenv...|                3|           3|Ciências Médicas|                                         1|            10|                                             3| Feminino|              81|                                   4|                1|Técnico de Labora...|                        1|      Casado|        2670|          9964|                                4|           Sim|           Sim|                              20|                   4|                                   1|                        80|                                     3|                       12|                                            3|                       2|                                   1|                               0|                           0|                                  0|\n",
            "|   30|     Não|     Viaja raramente|             1358|Pesquisa e Desenv...|               24|           1|Ciências Humanas|                                         1|            11|                                             4|Masculino|              67|                                   3|                1|Técnico de Labora...|                        3|  Divorciado|        2693|         13335|                                1|           Sim|           Não|                              22|                   4|                                   2|                        80|                                     1|                        1|                                            2|                       3|                                   1|                               0|                           0|                                  0|\n",
            "|   38|     Não|Viaja frequentemente|              216|Pesquisa e Desenv...|               23|           3|Ciências Humanas|                                         1|            12|                                             4|Masculino|              44|                                   2|                3|Diretor de manufa...|                        3|    Solteiro|        9526|          8787|                                0|           Sim|           Não|                              21|                   4|                                   2|                        80|                                     0|                       10|                                            2|                       3|                                   9|                               7|                           1|                                  8|\n",
            "|   36|     Não|     Viaja raramente|             1299|Pesquisa e Desenv...|               27|           3|Ciências Médicas|                                         1|            13|                                             3|Masculino|              94|                                   3|                2|Reprentante de saúde|                        3|      Casado|        5237|         16577|                                6|           Sim|           Não|                              13|                   3|                                   2|                        80|                                     2|                       17|                                            3|                       2|                                   7|                               7|                           7|                                  7|\n",
            "|   35|     Não|     Viaja raramente|              809|Pesquisa e Desenv...|               16|           3|Ciências Médicas|                                         1|            14|                                             1|Masculino|              84|                                   4|                1|Técnico de Labora...|                        2|      Casado|        2426|         16479|                                0|           Sim|           Não|                              13|                   3|                                   3|                        80|                                     1|                        6|                                            5|                       3|                                   5|                               4|                           0|                                  3|\n",
            "|   29|     Não|     Viaja raramente|              153|Pesquisa e Desenv...|               15|           2|Ciências Humanas|                                         1|            15|                                             4| Feminino|              49|                                   2|                2|Técnico de Labora...|                        3|    Solteiro|        4193|         12682|                                0|           Sim|           Sim|                              12|                   3|                                   4|                        80|                                     0|                       10|                                            3|                       3|                                   9|                               5|                           0|                                  8|\n",
            "|   31|     Não|     Viaja raramente|              670|Pesquisa e Desenv...|               26|           1|Ciências Humanas|                                         1|            16|                                             1|Masculino|              31|                                   3|                1|Pesquisador cient...|                        3|  Divorciado|        2911|         15170|                                1|           Sim|           Não|                              17|                   3|                                   4|                        80|                                     1|                        5|                                            1|                       2|                                   5|                               2|                           4|                                  3|\n",
            "|   34|     Não|     Viaja raramente|             1346|Pesquisa e Desenv...|               19|           2|Ciências Médicas|                                         1|            18|                                             2|Masculino|              93|                                   3|                1|Técnico de Labora...|                        4|  Divorciado|        2661|          8758|                                0|           Sim|           Não|                              11|                   3|                                   3|                        80|                                     1|                        3|                                            2|                       3|                                   2|                               2|                           1|                                  2|\n",
            "|   28|     Sim|     Viaja raramente|              103|Pesquisa e Desenv...|               24|           3|Ciências Humanas|                                         1|            19|                                             3|Masculino|              93|                                   2|                1|Técnico de Labora...|                        3|    Solteiro|        2028|         12947|                                5|           Sim|           Sim|                              14|                   3|                                   2|                        80|                                     0|                        6|                                            4|                       3|                                   4|                               2|                           0|                                  3|\n",
            "|   29|     Não|     Viaja raramente|             1389|Pesquisa e Desenv...|               21|           4|Ciências Humanas|                                         1|            20|                                             2| Feminino|              51|                                   4|                3|Diretor de manufa...|                        1|  Divorciado|        9980|         10195|                                1|           Sim|           Não|                              11|                   3|                                   3|                        80|                                     1|                       10|                                            1|                       3|                                  10|                               9|                           8|                                  8|\n",
            "+-----+--------+--------------------+-----------------+--------------------+-----------------+------------+----------------+------------------------------------------+--------------+----------------------------------------------+---------+----------------+------------------------------------+-----------------+--------------------+-------------------------+------------+------------+--------------+---------------------------------+--------------+--------------+--------------------------------+--------------------+------------------------------------+--------------------------+--------------------------------------+-------------------------+---------------------------------------------+------------------------+------------------------------------+--------------------------------+----------------------------+-----------------------------------+\n",
            "only showing top 15 rows\n",
            "\n"
          ]
        }
      ]
    },
    {
      "cell_type": "code",
      "source": [
        "dfps.filter(col(\"idade\").isin(60, 18, 59)).show() # 7 - Filtrando mais de uma linha, por idade"
      ],
      "metadata": {
        "colab": {
          "base_uri": "https://localhost:8080/"
        },
        "id": "50EW5hHDcsNS",
        "outputId": "80300968-0459-442f-8dcc-b9e71ed8c29a"
      },
      "execution_count": null,
      "outputs": [
        {
          "output_type": "stream",
          "name": "stdout",
          "text": [
            "+-----+--------+--------------------+-----------------+--------------------+-----------------+------------+-----------------+------------------------------------------+--------------+----------------------------------------------+---------+----------------+------------------------------------+-----------------+--------------------+-------------------------+------------+------------+--------------+---------------------------------+--------------+--------------+--------------------------------+--------------------+------------------------------------+--------------------------+--------------------------------------+-------------------------+---------------------------------------------+------------------------+------------------------------------+--------------------------------+----------------------------+-----------------------------------+\n",
            "|Idade|Demissão|  Viagem de negócios|Diárias recebidas|        Departamento|Distância de Casa|Escolaridade| Área de Formação|Número de contratos de trabalho na empresa|ID Funcionário|Nível de Satisfação com o ambiente de trabalho|   Gênero|Salário por hora|Nível de envolvimento com o trabalho|Nível hierárquico|               Cargo|Satisfação com o trabalho|Estado civil|Renda mensal|Salário Mensal|qtde de empresas que já trabalhou|Maior de idade|Faz hora extra|percentual de aumento de salário|score de performance|Satisfação nas relações Não trabalho|Jornada padrão de trabalho|opção de remaunração variável em ações|Total de anos trabalhados|Qtde de treinamentos realizados no último ano|Equilíbrio vida trabalho|Total de anos trabalhados na empresa|Anos trabalhados na função atual|Anos desde a última promoção|Anos trabalhando com o atual gestor|\n",
            "+-----+--------+--------------------+-----------------+--------------------+-----------------+------------+-----------------+------------------------------------------+--------------+----------------------------------------------+---------+----------------+------------------------------------+-----------------+--------------------+-------------------------+------------+------------+--------------+---------------------------------+--------------+--------------+--------------------------------+--------------------+------------------------------------+--------------------------+--------------------------------------+-------------------------+---------------------------------------------+------------------------+------------------------------------+--------------------------------+----------------------------+-----------------------------------+\n",
            "|   59|     Não|     Viaja raramente|             1324|Pesquisa e Desenv...|                3|           3| Ciências Médicas|                                         1|            10|                                             3| Feminino|              81|                                   4|                1|Técnico de Labora...|                        1|      Casado|        2670|          9964|                                4|           Sim|           Sim|                              20|                   4|                                   1|                        80|                                     3|                       12|                                            3|                       2|                                   1|                               0|                           0|                                  0|\n",
            "|   59|     Não|     Viaja raramente|             1435|              Vendas|               25|           3| Ciências Humanas|                                         1|            81|                                             1| Feminino|              99|                                   3|                3| Executivo de vendas|                        1|    Solteiro|        7637|          2354|                                7|           Sim|           Não|                              11|                   3|                                   4|                        80|                                     0|                       28|                                            3|                       2|                                  21|                              16|                           7|                                  9|\n",
            "|   59|     Não|Viaja frequentemente|             1225|              Vendas|                1|           1| Ciências Humanas|                                         1|            91|                                             1| Feminino|              57|                                   2|                2| Executivo de vendas|                        3|    Solteiro|        5473|         24668|                                7|           Sim|           Não|                              11|                   3|                                   4|                        80|                                     0|                       20|                                            2|                       2|                                   4|                               3|                           1|                                  3|\n",
            "|   59|     Não|           Não Viaja|             1420|   Recursos HumaNãos|                2|           4|Recursos HumaNãos|                                         1|           140|                                             3| Feminino|              32|                                   2|                5|             Gerente|                        4|      Casado|       18844|         21922|                                9|           Sim|           Não|                              21|                   4|                                   4|                        80|                                     1|                       30|                                            3|                       3|                                   3|                               2|                           2|                                  2|\n",
            "|   59|     Não|     Viaja raramente|              142|Pesquisa e Desenv...|                3|           3| Ciências Humanas|                                         1|           309|                                             3|Masculino|              70|                                   2|                1|Pesquisador cient...|                        4|      Casado|        2177|          8456|                                3|           Sim|           Não|                              17|                   3|                                   1|                        80|                                     1|                        7|                                            6|                       3|                                   1|                               0|                           0|                                  0|\n",
            "|   59|     Não|     Viaja raramente|              818|   Recursos HumaNãos|                6|           2| Ciências Médicas|                                         1|           321|                                             2|Masculino|              52|                                   3|                1|   Recursos HumaNãos|                        3|      Casado|        2267|         25657|                                8|           Sim|           Não|                              17|                   3|                                   4|                        80|                                     0|                        7|                                            2|                       2|                                   2|                               2|                           2|                                  2|\n",
            "|   18|     Sim|     Viaja raramente|              230|Pesquisa e Desenv...|                3|           3| Ciências Humanas|                                         1|           405|                                             3|Masculino|              54|                                   3|                1|Técnico de Labora...|                        3|    Solteiro|        1420|         25233|                                1|           Sim|           Não|                              13|                   3|                                   3|                        80|                                     0|                        0|                                            2|                       3|                                   0|                               0|                           0|                                  0|\n",
            "|   18|     Não|     Viaja raramente|              812|              Vendas|               10|           3| Ciências Médicas|                                         1|           411|                                             4| Feminino|              69|                                   2|                1|Representante de ...|                        3|    Solteiro|        1200|          9724|                                1|           Sim|           Não|                              12|                   3|                                   1|                        80|                                     0|                        0|                                            2|                       3|                                   0|                               0|                           0|                                  0|\n",
            "|   60|     Não|     Viaja raramente|              422|Pesquisa e Desenv...|                7|           3| Ciências Humanas|                                         1|           549|                                             1| Feminino|              41|                                   3|                5|             Gerente|                        1|      Casado|       19566|          3854|                                5|           Sim|           Não|                              11|                   3|                                   4|                        80|                                     0|                       33|                                            5|                       1|                                  29|                               8|                          11|                                 10|\n",
            "|   60|     Não|Viaja frequentemente|             1499|              Vendas|               28|           3|        Marketing|                                         1|           573|                                             3| Feminino|              80|                                   2|                3| Executivo de vendas|                        1|      Casado|       10266|          2845|                                4|           Sim|           Não|                              19|                   3|                                   4|                        80|                                     0|                       22|                                            5|                       4|                                  18|                              13|                          13|                                 11|\n",
            "|   18|     Sim|Viaja frequentemente|             1306|              Vendas|                5|           3|        Marketing|                                         1|           614|                                             2|Masculino|              69|                                   3|                1|Representante de ...|                        2|    Solteiro|        1878|          8059|                                1|           Sim|           Sim|                              14|                   3|                                   4|                        80|                                     0|                        0|                                            3|                       3|                                   0|                               0|                           0|                                  0|\n",
            "|   60|     Não|     Viaja raramente|             1179|              Vendas|               16|           4|        Marketing|                                         1|           732|                                             1|Masculino|              84|                                   3|                2| Executivo de vendas|                        1|    Solteiro|        5405|         11924|                                8|           Sim|           Não|                              14|                   3|                                   4|                        80|                                     0|                       10|                                            1|                       3|                                   2|                               2|                           2|                                  2|\n",
            "|   18|     Não|           Não Viaja|              287|Pesquisa e Desenv...|                5|           2| Ciências Humanas|                                         1|          1012|                                             2|Masculino|              73|                                   3|                1|Pesquisador cient...|                        4|    Solteiro|        1051|         13493|                                1|           Sim|           Não|                              15|                   3|                                   4|                        80|                                     0|                        0|                                            2|                       3|                                   0|                               0|                           0|                                  0|\n",
            "|   59|     Não|     Viaja raramente|              715|Pesquisa e Desenv...|                2|           3| Ciências Humanas|                                         1|          1032|                                             3| Feminino|              69|                                   2|                4|Diretor de manufa...|                        4|    Solteiro|       13726|         21829|                                3|           Sim|           Sim|                              13|                   3|                                   1|                        80|                                     0|                       30|                                            4|                       3|                                   5|                               3|                           4|                                  3|\n",
            "|   59|     Não|     Viaja raramente|             1089|              Vendas|                1|           2|  EnsiNão técnico|                                         1|          1048|                                             2|Masculino|              66|                                   3|                3|             Gerente|                        4|      Casado|       11904|         11038|                                3|           Sim|           Sim|                              14|                   3|                                   3|                        80|                                     1|                       14|                                            1|                       1|                                   6|                               4|                           0|                                  4|\n",
            "|   18|     Sim|           Não Viaja|              247|Pesquisa e Desenv...|                8|           1| Ciências Médicas|                                         1|          1156|                                             3|Masculino|              80|                                   3|                1|Técnico de Labora...|                        3|    Solteiro|        1904|         13556|                                1|           Sim|           Não|                              12|                   3|                                   4|                        80|                                     0|                        0|                                            0|                       3|                                   0|                               0|                           0|                                  0|\n",
            "|   60|     Não|     Viaja raramente|              696|              Vendas|                7|           4|        Marketing|                                         1|          1233|                                             2|Masculino|              52|                                   4|                2| Executivo de vendas|                        4|  Divorciado|        5220|         10893|                                0|           Sim|           Sim|                              18|                   3|                                   2|                        80|                                     1|                       12|                                            3|                       3|                                  11|                               7|                           1|                                  9|\n",
            "|   59|     Não|     Viaja raramente|              326|              Vendas|                3|           3| Ciências Humanas|                                         1|          1254|                                             3| Feminino|              48|                                   2|                2| Executivo de vendas|                        4|    Solteiro|        5171|         16490|                                5|           Sim|           Não|                              17|                   3|                                   4|                        80|                                     0|                       13|                                            2|                       3|                                   6|                               1|                           0|                                  5|\n",
            "|   59|     Não|     Viaja raramente|             1429|Pesquisa e Desenv...|               18|           4| Ciências Médicas|                                         1|          1283|                                             4|Masculino|              67|                                   3|                3|Diretor de manufa...|                        4|    Solteiro|       10512|         20002|                                6|           Sim|           Não|                              12|                   3|                                   4|                        80|                                     0|                       25|                                            6|                       2|                                   9|                               7|                           5|                                  4|\n",
            "|   18|     Não|           Não Viaja|             1124|Pesquisa e Desenv...|                1|           3| Ciências Humanas|                                         1|          1368|                                             4| Feminino|              97|                                   3|                1|Técnico de Labora...|                        4|    Solteiro|        1611|         19305|                                1|           Sim|           Não|                              15|                   3|                                   3|                        80|                                     0|                        0|                                            5|                       4|                                   0|                               0|                           0|                                  0|\n",
            "+-----+--------+--------------------+-----------------+--------------------+-----------------+------------+-----------------+------------------------------------------+--------------+----------------------------------------------+---------+----------------+------------------------------------+-----------------+--------------------+-------------------------+------------+------------+--------------+---------------------------------+--------------+--------------+--------------------------------+--------------------+------------------------------------+--------------------------+--------------------------------------+-------------------------+---------------------------------------------+------------------------+------------------------------------+--------------------------------+----------------------------+-----------------------------------+\n",
            "only showing top 20 rows\n",
            "\n"
          ]
        }
      ]
    },
    {
      "cell_type": "code",
      "source": [
        "dfps.select(\"Área de formação\", \"Cargo\").show() # 8 - Fatiando colunas pelo rótulo"
      ],
      "metadata": {
        "colab": {
          "base_uri": "https://localhost:8080/"
        },
        "id": "KScsPs1cdaEW",
        "outputId": "9889762b-f6da-4d4a-f1a2-b944ff7e40c4"
      },
      "execution_count": null,
      "outputs": [
        {
          "output_type": "stream",
          "name": "stdout",
          "text": [
            "+----------------+--------------------+\n",
            "|Área de formação|               Cargo|\n",
            "+----------------+--------------------+\n",
            "|Ciências Humanas| Executivo de vendas|\n",
            "|Ciências Humanas|Pesquisador cient...|\n",
            "|          Outras|Técnico de Labora...|\n",
            "|Ciências Humanas|Pesquisador cient...|\n",
            "|Ciências Médicas|Técnico de Labora...|\n",
            "|Ciências Humanas|Técnico de Labora...|\n",
            "|Ciências Médicas|Técnico de Labora...|\n",
            "|Ciências Humanas|Técnico de Labora...|\n",
            "|Ciências Humanas|Diretor de manufa...|\n",
            "|Ciências Médicas|Reprentante de saúde|\n",
            "|Ciências Médicas|Técnico de Labora...|\n",
            "|Ciências Humanas|Técnico de Labora...|\n",
            "|Ciências Humanas|Pesquisador cient...|\n",
            "|Ciências Médicas|Técnico de Labora...|\n",
            "|Ciências Humanas|Técnico de Labora...|\n",
            "|Ciências Humanas|Diretor de manufa...|\n",
            "|Ciências Humanas|Pesquisador cient...|\n",
            "|Ciências Médicas|Técnico de Labora...|\n",
            "|Ciências Humanas|             Gerente|\n",
            "|Ciências Humanas|Pesquisador cient...|\n",
            "+----------------+--------------------+\n",
            "only showing top 20 rows\n",
            "\n"
          ]
        }
      ]
    },
    {
      "cell_type": "code",
      "source": [
        "dfps.select(dfps.columns[0:3]).show() # 9 - Fatiando colunas pelo índice, trazendo os índices 0, 1, e 2"
      ],
      "metadata": {
        "colab": {
          "base_uri": "https://localhost:8080/"
        },
        "id": "SnhjYHo4dxAi",
        "outputId": "a39bd687-8b5f-4b08-a5c0-6ca647dfa019"
      },
      "execution_count": null,
      "outputs": [
        {
          "output_type": "stream",
          "name": "stdout",
          "text": [
            "+-----+--------+--------------------+\n",
            "|Idade|Demissão|  Viagem de negócios|\n",
            "+-----+--------+--------------------+\n",
            "|   41|     Sim|     Viaja raramente|\n",
            "|   49|     Não|Viaja frequentemente|\n",
            "|   37|     Sim|     Viaja raramente|\n",
            "|   33|     Não|Viaja frequentemente|\n",
            "|   27|     Não|     Viaja raramente|\n",
            "|   32|     Não|Viaja frequentemente|\n",
            "|   59|     Não|     Viaja raramente|\n",
            "|   30|     Não|     Viaja raramente|\n",
            "|   38|     Não|Viaja frequentemente|\n",
            "|   36|     Não|     Viaja raramente|\n",
            "|   35|     Não|     Viaja raramente|\n",
            "|   29|     Não|     Viaja raramente|\n",
            "|   31|     Não|     Viaja raramente|\n",
            "|   34|     Não|     Viaja raramente|\n",
            "|   28|     Sim|     Viaja raramente|\n",
            "|   29|     Não|     Viaja raramente|\n",
            "|   32|     Não|     Viaja raramente|\n",
            "|   22|     Não|           Não Viaja|\n",
            "|   53|     Não|     Viaja raramente|\n",
            "|   38|     Não|     Viaja raramente|\n",
            "+-----+--------+--------------------+\n",
            "only showing top 20 rows\n",
            "\n"
          ]
        }
      ]
    },
    {
      "cell_type": "code",
      "source": [
        "dfps.groupBy(\"Gênero\").count().show() # 10 - Agrupando por gênero e trazendo o total de cada"
      ],
      "metadata": {
        "colab": {
          "base_uri": "https://localhost:8080/"
        },
        "id": "lTiYxlu5fFry",
        "outputId": "8e4efce5-ec68-4a49-a9bb-781239c5a34e"
      },
      "execution_count": null,
      "outputs": [
        {
          "output_type": "stream",
          "name": "stdout",
          "text": [
            "+---------+-----+\n",
            "|   Gênero|count|\n",
            "+---------+-----+\n",
            "| Feminino|  588|\n",
            "|Masculino|  882|\n",
            "+---------+-----+\n",
            "\n"
          ]
        }
      ]
    },
    {
      "cell_type": "code",
      "source": [
        "dfps.groupBy(\"Área de formação\").count().show() # 11 - Agrupando por área de formação e trazendo o total"
      ],
      "metadata": {
        "colab": {
          "base_uri": "https://localhost:8080/"
        },
        "id": "9y_Z8iZyiBWt",
        "outputId": "3752aaa3-393d-4b6c-b55f-695542472146"
      },
      "execution_count": null,
      "outputs": [
        {
          "output_type": "stream",
          "name": "stdout",
          "text": [
            "+-----------------+-----+\n",
            "| Área de formação|count|\n",
            "+-----------------+-----+\n",
            "| Ciências Humanas|  606|\n",
            "|        Marketing|  159|\n",
            "|  EnsiNão técnico|  132|\n",
            "|Recursos HumaNãos|   27|\n",
            "|           Outras|   82|\n",
            "| Ciências Médicas|  464|\n",
            "+-----------------+-----+\n",
            "\n"
          ]
        }
      ]
    },
    {
      "cell_type": "code",
      "source": [
        "dfps.groupBy(\"Cargo\").count().show() # 12 - Agrupando por cargo e trazendo o total"
      ],
      "metadata": {
        "colab": {
          "base_uri": "https://localhost:8080/"
        },
        "id": "i_2BC7-siRPC",
        "outputId": "11486c66-ca76-4fb9-dfc8-485a88ecd8e5"
      },
      "execution_count": null,
      "outputs": [
        {
          "output_type": "stream",
          "name": "stdout",
          "text": [
            "+--------------------+-----+\n",
            "|               Cargo|count|\n",
            "+--------------------+-----+\n",
            "|             Gerente|  102|\n",
            "|Diretor de manufa...|  145|\n",
            "| Diretor de pesquisa|   80|\n",
            "|Pesquisador cient...|  292|\n",
            "| Executivo de vendas|  326|\n",
            "|Técnico de Labora...|  259|\n",
            "|   Recursos HumaNãos|   52|\n",
            "|Reprentante de saúde|  131|\n",
            "|Representante de ...|   83|\n",
            "+--------------------+-----+\n",
            "\n"
          ]
        }
      ]
    },
    {
      "cell_type": "code",
      "source": [
        "dfps.groupBy(\"Gênero\").agg(avg(\"Renda mensal\").alias(\"Média salarial Gênero\")).show() # 13 - Agrupando por gênero e trazendo a média"
      ],
      "metadata": {
        "colab": {
          "base_uri": "https://localhost:8080/"
        },
        "id": "JN8dMqMAj-5Z",
        "outputId": "4d6c527e-7956-4f40-ccb1-0ab627f34a4c"
      },
      "execution_count": null,
      "outputs": [
        {
          "output_type": "stream",
          "name": "stdout",
          "text": [
            "+---------+---------------------+\n",
            "|   Gênero|Média salarial Gênero|\n",
            "+---------+---------------------+\n",
            "| Feminino|    6686.566326530612|\n",
            "|Masculino|    6380.507936507936|\n",
            "+---------+---------------------+\n",
            "\n"
          ]
        }
      ]
    },
    {
      "cell_type": "code",
      "source": [
        "df_resultado = dfps.groupBy(\"Cargo\").agg(avg(\"Renda mensal\").alias(\"Média salarial Cargo\"))\n",
        "df_resultado = df_resultado.withColumn(\"Média salarial Cargo\", round(df_resultado[\"Média salarial Cargo\"], 2))\n",
        "df_resultado.show() # 14 - Agrupando por cargo e trazendo a média arredondada"
      ],
      "metadata": {
        "colab": {
          "base_uri": "https://localhost:8080/"
        },
        "id": "oJt6HSpQknRS",
        "outputId": "49c14f26-4204-4315-bc37-4d0b277981e6"
      },
      "execution_count": null,
      "outputs": [
        {
          "output_type": "stream",
          "name": "stdout",
          "text": [
            "+--------------------+--------------------+\n",
            "|               Cargo|Média salarial Cargo|\n",
            "+--------------------+--------------------+\n",
            "|             Gerente|            17181.68|\n",
            "|Diretor de manufa...|             7295.14|\n",
            "| Diretor de pesquisa|            16033.55|\n",
            "|Pesquisador cient...|             3239.97|\n",
            "| Executivo de vendas|             6924.28|\n",
            "|Técnico de Labora...|             3237.17|\n",
            "|   Recursos HumaNãos|             4235.75|\n",
            "|Reprentante de saúde|             7528.76|\n",
            "|Representante de ...|              2626.0|\n",
            "+--------------------+--------------------+\n",
            "\n"
          ]
        }
      ]
    },
    {
      "cell_type": "code",
      "source": [
        "dfps.groupBy(\"Viagem de negócios\").agg(avg(\"Diárias recebidas\").alias(\"Média diárias recebidas\")).show() # 15 - Agrupando por viagem de negócios e trazendo a média"
      ],
      "metadata": {
        "colab": {
          "base_uri": "https://localhost:8080/"
        },
        "id": "LY12MDtcoUHJ",
        "outputId": "9791c0f2-3502-4564-e842-3d1816ee2aab"
      },
      "execution_count": null,
      "outputs": [
        {
          "output_type": "stream",
          "name": "stdout",
          "text": [
            "+--------------------+-----------------------+\n",
            "|  Viagem de negócios|Média diárias recebidas|\n",
            "+--------------------+-----------------------+\n",
            "|Viaja frequentemente|      792.6281588447654|\n",
            "|           Não Viaja|                 816.96|\n",
            "|     Viaja raramente|      803.0220517737296|\n",
            "+--------------------+-----------------------+\n",
            "\n"
          ]
        }
      ]
    },
    {
      "cell_type": "code",
      "source": [
        "dfps.groupBy(\"Demissão\").agg(avg(\"Score de performance\").alias(\"Demissão x Score performance\")).show() # 16 - Agrupando por demissão e trazendo a média do Score de performance"
      ],
      "metadata": {
        "colab": {
          "base_uri": "https://localhost:8080/"
        },
        "id": "TPp_A6rWpoHT",
        "outputId": "3bbb6207-3528-4117-ab25-1f93a9e69536"
      },
      "execution_count": null,
      "outputs": [
        {
          "output_type": "stream",
          "name": "stdout",
          "text": [
            "+--------+----------------------------+\n",
            "|Demissão|Demissão x Score performance|\n",
            "+--------+----------------------------+\n",
            "|     Não|           3.153284671532847|\n",
            "|     Sim|          3.1561181434599157|\n",
            "+--------+----------------------------+\n",
            "\n"
          ]
        }
      ]
    },
    {
      "cell_type": "code",
      "source": [
        "dfps.groupBy(\"Demissão\").agg(avg(\"percentual de aumento de salário\").alias(\"Demissão x Aumento salarial\")).show() # 17 - Agrupando por demissão e trazendo a média do percentual de aumento de salário"
      ],
      "metadata": {
        "colab": {
          "base_uri": "https://localhost:8080/"
        },
        "collapsed": true,
        "id": "fDlqouayrEGp",
        "outputId": "099d84d0-3d1d-4848-c4b5-b84464c48593"
      },
      "execution_count": null,
      "outputs": [
        {
          "output_type": "stream",
          "name": "stdout",
          "text": [
            "+--------+---------------------------+\n",
            "|Demissão|Demissão x Aumento salarial|\n",
            "+--------+---------------------------+\n",
            "|     Não|         15.231143552311435|\n",
            "|     Sim|          15.09704641350211|\n",
            "+--------+---------------------------+\n",
            "\n"
          ]
        }
      ]
    },
    {
      "cell_type": "code",
      "source": [
        "dfps.groupBy(\"Estado civil\").agg(avg(\"Renda mensal\").alias(\"Média salarial Estado civil\")).show() # 18 - Agrupando por estado civil e trazendo a média"
      ],
      "metadata": {
        "colab": {
          "base_uri": "https://localhost:8080/"
        },
        "id": "8YZt-DA4rhcg",
        "outputId": "533aa120-5a17-4fc6-c08b-e9dbf115cb4a"
      },
      "execution_count": null,
      "outputs": [
        {
          "output_type": "stream",
          "name": "stdout",
          "text": [
            "+------------+---------------------------+\n",
            "|Estado civil|Média salarial Estado civil|\n",
            "+------------+---------------------------+\n",
            "|  Divorciado|          6786.287461773701|\n",
            "|    Solteiro|          5889.472340425532|\n",
            "|      Casado|           6793.67161961367|\n",
            "+------------+---------------------------+\n",
            "\n"
          ]
        }
      ]
    },
    {
      "cell_type": "code",
      "source": [
        "dfps.groupBy(\"Demissão\").agg(avg(\"Idade\").alias(\"Demissão x Idade\")).show() # 19 - Agrupando por demissão e trazendo a média"
      ],
      "metadata": {
        "colab": {
          "base_uri": "https://localhost:8080/"
        },
        "id": "0Q19_T8ksVS-",
        "outputId": "05dc73a1-0a3a-4fd1-b710-0666d52bc79f"
      },
      "execution_count": null,
      "outputs": [
        {
          "output_type": "stream",
          "name": "stdout",
          "text": [
            "+--------+------------------+\n",
            "|Demissão|  Demissão x Idade|\n",
            "+--------+------------------+\n",
            "|     Não|37.561232765612324|\n",
            "|     Sim|33.607594936708864|\n",
            "+--------+------------------+\n",
            "\n"
          ]
        }
      ]
    },
    {
      "cell_type": "code",
      "source": [
        "dfps.groupBy(\"Cargo\").agg(avg(\"Total de anos trabalhados\").alias(\"Média anos trabalhados Cargo\")).show() # 20 - Agrupando por cargo e trazendo a média"
      ],
      "metadata": {
        "colab": {
          "base_uri": "https://localhost:8080/"
        },
        "id": "Ysi9Tx6at5kO",
        "outputId": "88c7918d-57f2-40dc-fbdd-77bbc04a6f42"
      },
      "execution_count": null,
      "outputs": [
        {
          "output_type": "stream",
          "name": "stdout",
          "text": [
            "+--------------------+----------------------------+\n",
            "|               Cargo|Média anos trabalhados Cargo|\n",
            "+--------------------+----------------------------+\n",
            "|             Gerente|           24.54901960784314|\n",
            "|Diretor de manufa...|          12.786206896551723|\n",
            "| Diretor de pesquisa|                        21.4|\n",
            "|Pesquisador cient...|           7.715753424657534|\n",
            "| Executivo de vendas|           11.10122699386503|\n",
            "|Técnico de Labora...|           7.656370656370656|\n",
            "|   Recursos HumaNãos|           8.173076923076923|\n",
            "|Reprentante de saúde|          14.068702290076336|\n",
            "|Representante de ...|           4.674698795180723|\n",
            "+--------------------+----------------------------+\n",
            "\n"
          ]
        }
      ]
    },
    {
      "cell_type": "code",
      "source": [
        "pandasDF = dfps.toPandas()\n",
        "print(pandasDF) # Convertendo para Pandas"
      ],
      "metadata": {
        "colab": {
          "base_uri": "https://localhost:8080/"
        },
        "id": "rMI_dO9jvodc",
        "outputId": "0b356757-38ff-410b-ce33-62b5b5b2d890"
      },
      "execution_count": null,
      "outputs": [
        {
          "output_type": "stream",
          "name": "stdout",
          "text": [
            "      Idade Demissão    Viagem de negócios  Diárias recebidas  \\\n",
            "0        41      Sim       Viaja raramente               1102   \n",
            "1        49      Não  Viaja frequentemente                279   \n",
            "2        37      Sim       Viaja raramente               1373   \n",
            "3        33      Não  Viaja frequentemente               1392   \n",
            "4        27      Não       Viaja raramente                591   \n",
            "...     ...      ...                   ...                ...   \n",
            "1465     36      Não  Viaja frequentemente                884   \n",
            "1466     39      Não       Viaja raramente                613   \n",
            "1467     27      Não       Viaja raramente                155   \n",
            "1468     49      Não  Viaja frequentemente               1023   \n",
            "1469     34      Não       Viaja raramente                628   \n",
            "\n",
            "                    Departamento  Distância de Casa  Escolaridade  \\\n",
            "0                         Vendas                  1             2   \n",
            "1     Pesquisa e Desenvolvimento                  8             1   \n",
            "2     Pesquisa e Desenvolvimento                  2             2   \n",
            "3     Pesquisa e Desenvolvimento                  3             4   \n",
            "4     Pesquisa e Desenvolvimento                  2             1   \n",
            "...                          ...                ...           ...   \n",
            "1465  Pesquisa e Desenvolvimento                 23             2   \n",
            "1466  Pesquisa e Desenvolvimento                  6             1   \n",
            "1467  Pesquisa e Desenvolvimento                  4             3   \n",
            "1468                      Vendas                  2             3   \n",
            "1469  Pesquisa e Desenvolvimento                  8             3   \n",
            "\n",
            "      Área de Formação  Número de contratos de trabalho na empresa  \\\n",
            "0     Ciências Humanas                                           1   \n",
            "1     Ciências Humanas                                           1   \n",
            "2               Outras                                           1   \n",
            "3     Ciências Humanas                                           1   \n",
            "4     Ciências Médicas                                           1   \n",
            "...                ...                                         ...   \n",
            "1465  Ciências Médicas                                           1   \n",
            "1466  Ciências Médicas                                           1   \n",
            "1467  Ciências Humanas                                           1   \n",
            "1468  Ciências Médicas                                           1   \n",
            "1469  Ciências Médicas                                           1   \n",
            "\n",
            "      ID Funcionário  ...  Satisfação nas relações Não trabalho  \\\n",
            "0                  1  ...                                     1   \n",
            "1                  2  ...                                     4   \n",
            "2                  4  ...                                     2   \n",
            "3                  5  ...                                     3   \n",
            "4                  7  ...                                     4   \n",
            "...              ...  ...                                   ...   \n",
            "1465            2061  ...                                     3   \n",
            "1466            2062  ...                                     1   \n",
            "1467            2064  ...                                     2   \n",
            "1468            2065  ...                                     4   \n",
            "1469            2068  ...                                     1   \n",
            "\n",
            "     Jornada padrão de trabalho  opção de remaunração variável em ações  \\\n",
            "0                            80                                       0   \n",
            "1                            80                                       1   \n",
            "2                            80                                       0   \n",
            "3                            80                                       0   \n",
            "4                            80                                       1   \n",
            "...                         ...                                     ...   \n",
            "1465                         80                                       1   \n",
            "1466                         80                                       1   \n",
            "1467                         80                                       1   \n",
            "1468                         80                                       0   \n",
            "1469                         80                                       0   \n",
            "\n",
            "      Total de anos trabalhados  \\\n",
            "0                             8   \n",
            "1                            10   \n",
            "2                             7   \n",
            "3                             8   \n",
            "4                             6   \n",
            "...                         ...   \n",
            "1465                         17   \n",
            "1466                          9   \n",
            "1467                          6   \n",
            "1468                         17   \n",
            "1469                          6   \n",
            "\n",
            "      Qtde de treinamentos realizados no último ano Equilíbrio vida trabalho  \\\n",
            "0                                                 0                        1   \n",
            "1                                                 3                        3   \n",
            "2                                                 3                        3   \n",
            "3                                                 3                        3   \n",
            "4                                                 3                        3   \n",
            "...                                             ...                      ...   \n",
            "1465                                              3                        3   \n",
            "1466                                              5                        3   \n",
            "1467                                              0                        3   \n",
            "1468                                              3                        2   \n",
            "1469                                              3                        4   \n",
            "\n",
            "      Total de anos trabalhados na empresa Anos trabalhados na função atual  \\\n",
            "0                                        6                                4   \n",
            "1                                       10                                7   \n",
            "2                                        0                                0   \n",
            "3                                        8                                7   \n",
            "4                                        2                                2   \n",
            "...                                    ...                              ...   \n",
            "1465                                     5                                2   \n",
            "1466                                     7                                7   \n",
            "1467                                     6                                2   \n",
            "1468                                     9                                6   \n",
            "1469                                     4                                3   \n",
            "\n",
            "      Anos desde a última promoção  Anos trabalhando com o atual gestor  \n",
            "0                                0                                    5  \n",
            "1                                1                                    7  \n",
            "2                                0                                    0  \n",
            "3                                3                                    0  \n",
            "4                                2                                    2  \n",
            "...                            ...                                  ...  \n",
            "1465                             0                                    3  \n",
            "1466                             1                                    7  \n",
            "1467                             0                                    3  \n",
            "1468                             0                                    8  \n",
            "1469                             1                                    2  \n",
            "\n",
            "[1470 rows x 35 columns]\n"
          ]
        }
      ]
    },
    {
      "cell_type": "code",
      "source": [
        "pandasDF.to_csv('Novo_arquivo_exercicio_pyspark.csv', index=False) # Salvando o arquivo\n"
      ],
      "metadata": {
        "id": "NsfTGzEux6tb"
      },
      "execution_count": null,
      "outputs": []
    }
  ]
}